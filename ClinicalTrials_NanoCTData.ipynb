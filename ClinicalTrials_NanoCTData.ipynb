{
  "nbformat": 4,
  "nbformat_minor": 0,
  "metadata": {
    "colab": {
      "provenance": [],
      "authorship_tag": "ABX9TyPntS0ODeKn5FaJ1qp4a5iy",
      "include_colab_link": true
    },
    "kernelspec": {
      "name": "python3",
      "display_name": "Python 3"
    },
    "language_info": {
      "name": "python"
    }
  },
  "cells": [
    {
      "cell_type": "markdown",
      "metadata": {
        "id": "view-in-github",
        "colab_type": "text"
      },
      "source": [
        "<a href=\"https://colab.research.google.com/github/raghnyaa/python-code/blob/master/ClinicalTrials_NanoCTData.ipynb\" target=\"_parent\"><img src=\"https://colab.research.google.com/assets/colab-badge.svg\" alt=\"Open In Colab\"/></a>"
      ]
    },
    {
      "cell_type": "code",
      "source": [
        "from google.colab import drive\n",
        "\n",
        "# Mount Google Drive\n",
        "drive.mount('/content/drive')"
      ],
      "metadata": {
        "colab": {
          "base_uri": "https://localhost:8080/"
        },
        "id": "XYMWE9SzdNHd",
        "outputId": "1b7c6f37-0707-4bcc-e869-2d8bcac0e204"
      },
      "execution_count": null,
      "outputs": [
        {
          "output_type": "stream",
          "name": "stdout",
          "text": [
            "Mounted at /content/drive\n"
          ]
        }
      ]
    },
    {
      "cell_type": "code",
      "execution_count": null,
      "metadata": {
        "colab": {
          "base_uri": "https://localhost:8080/"
        },
        "id": "2dmYebP7H7im",
        "outputId": "0f7c613b-be76-4a57-f37e-81079db21343"
      },
      "outputs": [
        {
          "output_type": "stream",
          "name": "stdout",
          "text": [
            "Number of rows returned: 509736\n",
            "Results saved to: /content/drive/My Drive/nano_keywords_results.xlsx\n"
          ]
        }
      ],
      "source": [
        "import psycopg2\n",
        "from psycopg2.extras import DictCursor\n",
        "import re\n",
        "import pandas as pd\n",
        "\n",
        "# Connect to your PostgreSQL database\n",
        "conn = psycopg2.connect(\n",
        "host = \"aact-db.ctti-clinicaltrials.org\",\n",
        "port = \"5432\",\n",
        "dbname = \"aact\",\n",
        "user = \"rvalluru\",\n",
        "password = \"Prakhya@09!\",\n",
        ")\n",
        "\n",
        "# Define the keywords to search for\n",
        "keywords = [\n",
        "    'nano', 'liposom', 'abelcet', 'abraxane', 'daunoxome', 'depocyt', 'doxil',\n",
        "    'eligard', 'feraheme', 'feridex', 'ferumoxsil', 'ferumoxtran-10',\n",
        "    'genexol', 'kadcyla', 'lipoplatin', 'marqibo', 'mepact', 'myocet', 'ontak',\n",
        "    'pluronic f127', 'pluronic p105', 'rapamune', 'thermodox', 'tubastatin a',\n",
        "    'visudyne', 'dendrimer', 'micell'\n",
        "]\n",
        "\n",
        "\n",
        "# Create a cursor with a dictionary cursor\n",
        "with conn.cursor(cursor_factory=DictCursor) as cur:\n",
        "    # Execute the SQL query to get the combined text\n",
        "    cur.execute(\"\"\"\n",
        "    SELECT DISTINCT\n",
        "        STUDIES.NCT_ID as NCT_ID,\n",
        "        COALESCE(DETAILED_DESCRIPTIONS.DESCRIPTION, '') || ' ' ||\n",
        "        COALESCE(BRIEF_SUMMARIES.DESCRIPTION, '') || ' ' ||\n",
        "        COALESCE(STUDIES.BRIEF_TITLE, '') AS combined_text\n",
        "    FROM STUDIES\n",
        "    LEFT JOIN BRIEF_SUMMARIES ON STUDIES.NCT_ID = BRIEF_SUMMARIES.NCT_ID\n",
        "    LEFT JOIN INTERVENTIONS ON STUDIES.NCT_ID = INTERVENTIONS.NCT_ID\n",
        "    LEFT JOIN CONDITIONS ON STUDIES.NCT_ID = CONDITIONS.NCT_ID\n",
        "    LEFT JOIN DETAILED_DESCRIPTIONS ON DETAILED_DESCRIPTIONS.NCT_ID = STUDIES.NCT_ID\n",
        "    \"\"\")\n",
        "\n",
        "    # Fetch all rows\n",
        "    results = cur.fetchall()\n",
        "    print(f\"Number of rows returned: {len(results)}\")\n",
        "\n",
        "    # Process each row to find matching keywords\n",
        "    nct_keyword_map = {}\n",
        "    for row in results:\n",
        "        nct_id = row['nct_id']\n",
        "        combined_text = row['combined_text'].lower()\n",
        "\n",
        "        # Find matched \"nano\" related words and other keywords using regex\n",
        "        matched_nano_words = set(re.findall(r'\\b\\w*nano\\w*\\b', combined_text))\n",
        "        matched_other_keywords = set(kw for kw in keywords if kw in combined_text)\n",
        "\n",
        "        # Filter out duplicates and empty matches\n",
        "        matched_nano_words = {word for word in matched_nano_words if word}\n",
        "        matched_other_keywords = {word for word in matched_other_keywords if word}\n",
        "\n",
        "        if matched_nano_words or matched_other_keywords:\n",
        "            nct_keyword_map[nct_id] = {\n",
        "                'nano_keywords': list(matched_nano_words),\n",
        "                'other_keywords': list(matched_other_keywords)\n",
        "            }\n",
        "\n",
        "\n",
        " # Convert the dictionary to a DataFrame\n",
        "    df = pd.DataFrame.from_dict(nct_keyword_map, orient='index')\n",
        "\n",
        "    # Save the DataFrame to Google Drive\n",
        "    output_path = '/content/drive/My Drive/nano_keywords_results.xlsx'\n",
        "    df.to_excel(output_path, index=True)\n",
        "\n",
        "    print(f\"Results saved to: {output_path}\")\n",
        "\n",
        "# Close the connection\n",
        "conn.close()"
      ]
    }
  ]
}
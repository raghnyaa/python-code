{
  "nbformat": 4,
  "nbformat_minor": 0,
  "metadata": {
    "colab": {
      "provenance": []
    },
    "kernelspec": {
      "name": "python3",
      "display_name": "Python 3"
    },
    "language_info": {
      "name": "python"
    }
  },
  "cells": [
    {
      "cell_type": "markdown",
      "source": [
        "## Support Vector Machines\n",
        "\n",
        "In this assignment we are working on building support vector machine models of SVC(support vector classifier) and SVR(Support vector regression) and understand the performance of the model with different type of SVM modelling"
      ],
      "metadata": {
        "id": "A2WiXYQXFq0Y"
      }
    },
    {
      "cell_type": "code",
      "execution_count": null,
      "metadata": {
        "id": "WBlAO7vUFjgt"
      },
      "outputs": [],
      "source": [
        "import pandas as pd\n",
        "from matplotlib import style\n",
        "from matplotlib import pyplot as plt\n",
        "#import graphviz as gr\n",
        "%matplotlib inline\n",
        "style.use(\"fivethirtyeight\")\n",
        "import matplotlib.pyplot as plt\n",
        "\n",
        "from google.colab import drive\n",
        "drive.mount('/content/drive')\n",
        "import warnings\n",
        "warnings.filterwarnings('ignore')\n",
        "pd.set_option(\"display.max_columns\", 60)\n",
        "pd.set_option('display.max_rows', 50)\n",
        "pd.set_option('display.width', 1000)"
      ]
    },
    {
      "cell_type": "markdown",
      "source": [
        "Import the data file"
      ],
      "metadata": {
        "id": "B5HplI14XV0s"
      }
    },
    {
      "cell_type": "code",
      "source": [
        "import pandas as pd\n",
        "import numpy as np\n",
        "\n",
        "data = pd.read_csv('/content/drive/MyDrive/Colab/Datasets/BostonHousing_full.csv')"
      ],
      "metadata": {
        "id": "Psmc7mN8XWTs"
      },
      "execution_count": null,
      "outputs": []
    },
    {
      "cell_type": "code",
      "source": [
        "data_raw  = pd.DataFrame.from_records(data)\n",
        "data_raw.info()"
      ],
      "metadata": {
        "id": "1f35AS53X1cD"
      },
      "execution_count": null,
      "outputs": []
    },
    {
      "cell_type": "markdown",
      "source": [
        "We see that the column CATMEDV is our response variable and now we will build an SVM Model to classify all incoming data to either high or low MEDV.\n",
        "MEDV is the Median value of owner-occupied homes and in our dataset we consider a threshold value and categorize the median value into \"high\" or \"low\""
      ],
      "metadata": {
        "id": "jnIuq0eGYlep"
      }
    },
    {
      "cell_type": "markdown",
      "source": [
        "##Exploratory Data Analysis\n",
        "\n",
        "We now perform statistical analyses and data visualization to understand our feature variables and how they respond with respect to the MEDV high or low\n",
        "\n",
        "Before we do that, we first check the data for missing values "
      ],
      "metadata": {
        "id": "SkwL2jKtf0Zx"
      }
    },
    {
      "cell_type": "code",
      "source": [
        "data_raw.isna().sum()"
      ],
      "metadata": {
        "id": "swRDTx5hgnTj"
      },
      "execution_count": null,
      "outputs": []
    },
    {
      "cell_type": "markdown",
      "source": [
        "No missing values"
      ],
      "metadata": {
        "id": "VtS_mLgXgqmb"
      }
    },
    {
      "cell_type": "markdown",
      "source": [
        "We then convert the categorical variable CATMEDV to a numerical variable by encoding h"
      ],
      "metadata": {
        "id": "nKr9VKQ3lsia"
      }
    },
    {
      "cell_type": "code",
      "source": [
        "data_raw['CATMEDV'].replace('high',1,regex=True, inplace = True)\n",
        "data_raw['CATMEDV'].replace('low',0,regex=True, inplace = True)\n",
        "data_raw.head()"
      ],
      "metadata": {
        "id": "QK4qSP-qfux3"
      },
      "execution_count": null,
      "outputs": []
    },
    {
      "cell_type": "code",
      "source": [
        "data_raw['CATMEDV'].astype(str).astype(int)\n",
        "data_raw.info()"
      ],
      "metadata": {
        "id": "mXdsWfISkCgN"
      },
      "execution_count": null,
      "outputs": []
    },
    {
      "cell_type": "markdown",
      "source": [
        "## 1. Perform a 10-fold Cross-Validation for SVC\n",
        "\n",
        "We set the target and response variables from our "
      ],
      "metadata": {
        "id": "TDDXgNl8X7dQ"
      }
    },
    {
      "cell_type": "code",
      "source": [
        "#Set our features and response variables\n",
        "X = data_raw.loc[:, ~data.columns.isin(['CATMEDV'])]  #Storing features in X\n",
        "y = data_raw['CATMEDV'] #Storing the response variable to be classified in y\n",
        "y=y.astype('int')\n"
      ],
      "metadata": {
        "id": "PTxkNp2kYIvo",
        "outputId": "41cec803-2c03-4241-cf5d-71c6126111de",
        "colab": {
          "base_uri": "https://localhost:8080/",
          "height": 229
        }
      },
      "execution_count": null,
      "outputs": [
        {
          "output_type": "error",
          "ename": "NameError",
          "evalue": "ignored",
          "traceback": [
            "\u001b[0;31m---------------------------------------------------------------------------\u001b[0m",
            "\u001b[0;31mNameError\u001b[0m                                 Traceback (most recent call last)",
            "\u001b[0;32m<ipython-input-1-cdb969772e39>\u001b[0m in \u001b[0;36m<module>\u001b[0;34m()\u001b[0m\n\u001b[1;32m      1\u001b[0m \u001b[0;31m#Set our features and response variables\u001b[0m\u001b[0;34m\u001b[0m\u001b[0;34m\u001b[0m\u001b[0;34m\u001b[0m\u001b[0m\n\u001b[0;32m----> 2\u001b[0;31m \u001b[0mX\u001b[0m \u001b[0;34m=\u001b[0m \u001b[0mdata_raw\u001b[0m\u001b[0;34m.\u001b[0m\u001b[0mloc\u001b[0m\u001b[0;34m[\u001b[0m\u001b[0;34m:\u001b[0m\u001b[0;34m,\u001b[0m \u001b[0;34m~\u001b[0m\u001b[0mdata\u001b[0m\u001b[0;34m.\u001b[0m\u001b[0mcolumns\u001b[0m\u001b[0;34m.\u001b[0m\u001b[0misin\u001b[0m\u001b[0;34m(\u001b[0m\u001b[0;34m[\u001b[0m\u001b[0;34m'CATMEDV'\u001b[0m\u001b[0;34m]\u001b[0m\u001b[0;34m)\u001b[0m\u001b[0;34m]\u001b[0m  \u001b[0;31m#Storing features in X\u001b[0m\u001b[0;34m\u001b[0m\u001b[0;34m\u001b[0m\u001b[0m\n\u001b[0m\u001b[1;32m      3\u001b[0m \u001b[0my\u001b[0m \u001b[0;34m=\u001b[0m \u001b[0mdata_raw\u001b[0m\u001b[0;34m[\u001b[0m\u001b[0;34m'CATMEDV'\u001b[0m\u001b[0;34m]\u001b[0m \u001b[0;31m#Storing the response variable to be classified in y\u001b[0m\u001b[0;34m\u001b[0m\u001b[0;34m\u001b[0m\u001b[0m\n\u001b[1;32m      4\u001b[0m \u001b[0my\u001b[0m\u001b[0;34m=\u001b[0m\u001b[0my\u001b[0m\u001b[0;34m.\u001b[0m\u001b[0mastype\u001b[0m\u001b[0;34m(\u001b[0m\u001b[0;34m'int'\u001b[0m\u001b[0;34m)\u001b[0m\u001b[0;34m\u001b[0m\u001b[0;34m\u001b[0m\u001b[0m\n",
            "\u001b[0;31mNameError\u001b[0m: name 'data_raw' is not defined"
          ]
        }
      ]
    },
    {
      "cell_type": "code",
      "source": [
        "from sklearn.model_selection import train_test_split\n",
        "\n",
        "#Creating the SVC Model with pipeline after transforming the features \n",
        "from sklearn.pipeline import Pipeline\n",
        "from sklearn.preprocessing import MinMaxScaler\n",
        "from sklearn.svm import SVC\n",
        "from sklearn.model_selection import GridSearchCV\n",
        "\n",
        "x_train, x_test, y_train, y_test = train_test_split(X, y, test_size=0.2,random_state=101)\n",
        "\n",
        "svc_pipe=Pipeline(steps=[('scaler', MinMaxScaler()),\n",
        "                 ('svc', SVC(C=[1, 5, 10, 50, 100, 500, 1000], kernel='linear'))])\n",
        "param_grid = {'svc__C':[1, 5, 10, 50, 100, 500, 1000],'svc__gamma':[1,0.1,0.01,0.001,0.0001], 'svc__kernel':['linear']}\n",
        "grid_search = GridSearchCV(svc_pipe, param_grid, cv=10, scoring=\"neg_mean_squared_error\")\n",
        "grid_search.fit(x_train, y_train)"
      ],
      "metadata": {
        "colab": {
          "base_uri": "https://localhost:8080/"
        },
        "id": "A5YPM4kgyJ6S",
        "outputId": "0a3f85c7-2794-4dd0-90f3-62f0265a58be"
      },
      "execution_count": null,
      "outputs": [
        {
          "output_type": "execute_result",
          "data": {
            "text/plain": [
              "GridSearchCV(cv=10,\n",
              "             estimator=Pipeline(steps=[('scaler', MinMaxScaler()),\n",
              "                                       ('svc',\n",
              "                                        SVC(C=[1, 5, 10, 50, 100, 500, 1000],\n",
              "                                            kernel='linear'))]),\n",
              "             param_grid={'svc__C': [1, 5, 10, 50, 100, 500, 1000],\n",
              "                         'svc__gamma': [1, 0.1, 0.01, 0.001, 0.0001],\n",
              "                         'svc__kernel': ['linear']},\n",
              "             scoring='neg_mean_squared_error')"
            ]
          },
          "metadata": {},
          "execution_count": 64
        }
      ]
    },
    {
      "cell_type": "code",
      "source": [
        "grid_search.best_params_"
      ],
      "metadata": {
        "colab": {
          "base_uri": "https://localhost:8080/"
        },
        "id": "BHy9AR6GnhMi",
        "outputId": "c0f08eb0-0695-461f-bd6b-b9f7c5234680"
      },
      "execution_count": null,
      "outputs": [
        {
          "output_type": "execute_result",
          "data": {
            "text/plain": [
              "{'svc__C': 10, 'svc__gamma': 1, 'svc__kernel': 'linear'}"
            ]
          },
          "metadata": {},
          "execution_count": 65
        }
      ]
    },
    {
      "cell_type": "code",
      "execution_count": null,
      "metadata": {
        "colab": {
          "base_uri": "https://localhost:8080/"
        },
        "id": "bCdnKGF6e-hj",
        "outputId": "f1677b42-2481-435b-8dca-01f0c2803066"
      },
      "outputs": [
        {
          "output_type": "execute_result",
          "data": {
            "text/plain": [
              "-0.034756097560975606"
            ]
          },
          "metadata": {},
          "execution_count": 66
        }
      ],
      "source": [
        "grid_search.best_score_"
      ]
    },
    {
      "cell_type": "code",
      "source": [
        "grid_search.best_estimator_.steps[-1][1].coef_"
      ],
      "metadata": {
        "colab": {
          "base_uri": "https://localhost:8080/"
        },
        "id": "I2HKjIBPnvbO",
        "outputId": "af15f151-cce6-470d-f4b1-0430562d6e41"
      },
      "execution_count": null,
      "outputs": [
        {
          "output_type": "execute_result",
          "data": {
            "text/plain": [
              "array([[-2.68749584e-03,  1.33893960e+00, -1.71983098e+00,\n",
              "         4.92135935e-01,  9.06778532e-01,  7.75172020e+00,\n",
              "        -4.80217421e-01, -2.36382956e+00,  2.03181971e+00,\n",
              "        -1.05154617e+00, -1.46294779e+00,  5.51155599e-01,\n",
              "        -8.30430212e+00]])"
            ]
          },
          "metadata": {},
          "execution_count": 67
        }
      ]
    },
    {
      "cell_type": "code",
      "source": [
        "import math\n",
        "from sklearn.metrics import mean_absolute_error \n",
        "from sklearn.metrics import mean_squared_error \n",
        "pred_y=grid_search.predict(X)\n",
        "\n",
        "#score=grid_search.score(X,y)\n",
        "#print(score)\n",
        "\n",
        "mse=mean_squared_error(y, pred_y)\n",
        "#print(\"Mean Squared Error:\",mse)\n",
        "rmse=math.sqrt(mse)\n",
        "print(\"Root Mean Squared Error:\", rmse)\n",
        "\n",
        "mse=mean_absolute_error(y, pred_y)\n",
        "#mse=mean_absolute_error(y, pred_y, multioutput='raw_values')\n",
        "print(\"Mean Absolute Error:\",mse)"
      ],
      "metadata": {
        "colab": {
          "base_uri": "https://localhost:8080/"
        },
        "id": "Ev8CbCpJnwlp",
        "outputId": "5fa2fbc1-93b6-4e3f-c18d-89a16d07a6b3"
      },
      "execution_count": null,
      "outputs": [
        {
          "output_type": "stream",
          "name": "stdout",
          "text": [
            "Root Mean Squared Error: 0.19377669394079491\n",
            "Mean Absolute Error: 0.037549407114624504\n"
          ]
        }
      ]
    },
    {
      "cell_type": "code",
      "source": [
        "import math\n",
        "from sklearn.metrics import mean_absolute_error \n",
        "from sklearn.metrics import mean_squared_error \n",
        "pred_y=grid_search.predict(x_test)\n",
        "\n",
        "\n",
        "from sklearn.metrics import confusion_matrix\n",
        "confusion_matrix = confusion_matrix(y_test, pred_y)\n",
        "print(confusion_matrix)\n",
        "\n",
        "from sklearn.metrics import classification_report\n",
        "print(classification_report(y_test, pred_y))"
      ],
      "metadata": {
        "id": "ZAz7TQY42bSK",
        "colab": {
          "base_uri": "https://localhost:8080/"
        },
        "outputId": "89c28a84-1e87-451c-b865-0975923b4f0a"
      },
      "execution_count": null,
      "outputs": [
        {
          "output_type": "stream",
          "name": "stdout",
          "text": [
            "[[76  2]\n",
            " [ 6 18]]\n",
            "              precision    recall  f1-score   support\n",
            "\n",
            "           0       0.93      0.97      0.95        78\n",
            "           1       0.90      0.75      0.82        24\n",
            "\n",
            "    accuracy                           0.92       102\n",
            "   macro avg       0.91      0.86      0.88       102\n",
            "weighted avg       0.92      0.92      0.92       102\n",
            "\n"
          ]
        }
      ]
    },
    {
      "cell_type": "markdown",
      "source": [
        "We see that the Accuracy of our SVC is 92% and low MSE of 3.8%. F1 score, precision and recall are all showing high numbers for both high and low classifiers, thereby making it a good model."
      ],
      "metadata": {
        "id": "jZRl8z_a3hro"
      }
    },
    {
      "cell_type": "markdown",
      "source": [
        "##2. Build an SVR model, Plot the data, SVR and regression models\n",
        "\n",
        "We now load the Salary.arff file into colab and perform SVR modelling"
      ],
      "metadata": {
        "id": "Bu73Gai47Bxm"
      }
    },
    {
      "cell_type": "code",
      "source": [
        "from scipy.io import arff\n",
        "data, meta = arff.loadarff('/content/drive/MyDrive/Colab/Datasets/salary1.arff')\n",
        "data"
      ],
      "metadata": {
        "colab": {
          "base_uri": "https://localhost:8080/"
        },
        "id": "Q6Rp0QHT7PGv",
        "outputId": "0debc732-ecd7-4a36-dc09-deed42d6b5ce"
      },
      "execution_count": null,
      "outputs": [
        {
          "output_type": "execute_result",
          "data": {
            "text/plain": [
              "array([(10., 33.), (12., 36.), (12., 50.), (13., 51.), (14., 42.),\n",
              "       (14., 45.), (15., 59.), (16., 49.), (16., 60.), (17., 72.),\n",
              "       (18., 69.), (20., 77.)],\n",
              "      dtype=[('education', '<f8'), ('salary', '<f8')])"
            ]
          },
          "metadata": {},
          "execution_count": 70
        }
      ]
    },
    {
      "cell_type": "code",
      "source": [
        "raw_data = pd.DataFrame.from_records(data)\n",
        "\n",
        "raw_data"
      ],
      "metadata": {
        "colab": {
          "base_uri": "https://localhost:8080/",
          "height": 425
        },
        "id": "_uCdfscL8TP6",
        "outputId": "357a705a-ef9e-4141-e56d-6b6fdb9a7d87"
      },
      "execution_count": null,
      "outputs": [
        {
          "output_type": "execute_result",
          "data": {
            "text/html": [
              "\n",
              "  <div id=\"df-340e5467-c5a9-4c11-ba5f-b9438748eb94\">\n",
              "    <div class=\"colab-df-container\">\n",
              "      <div>\n",
              "<style scoped>\n",
              "    .dataframe tbody tr th:only-of-type {\n",
              "        vertical-align: middle;\n",
              "    }\n",
              "\n",
              "    .dataframe tbody tr th {\n",
              "        vertical-align: top;\n",
              "    }\n",
              "\n",
              "    .dataframe thead th {\n",
              "        text-align: right;\n",
              "    }\n",
              "</style>\n",
              "<table border=\"1\" class=\"dataframe\">\n",
              "  <thead>\n",
              "    <tr style=\"text-align: right;\">\n",
              "      <th></th>\n",
              "      <th>education</th>\n",
              "      <th>salary</th>\n",
              "    </tr>\n",
              "  </thead>\n",
              "  <tbody>\n",
              "    <tr>\n",
              "      <th>0</th>\n",
              "      <td>10.0</td>\n",
              "      <td>33.0</td>\n",
              "    </tr>\n",
              "    <tr>\n",
              "      <th>1</th>\n",
              "      <td>12.0</td>\n",
              "      <td>36.0</td>\n",
              "    </tr>\n",
              "    <tr>\n",
              "      <th>2</th>\n",
              "      <td>12.0</td>\n",
              "      <td>50.0</td>\n",
              "    </tr>\n",
              "    <tr>\n",
              "      <th>3</th>\n",
              "      <td>13.0</td>\n",
              "      <td>51.0</td>\n",
              "    </tr>\n",
              "    <tr>\n",
              "      <th>4</th>\n",
              "      <td>14.0</td>\n",
              "      <td>42.0</td>\n",
              "    </tr>\n",
              "    <tr>\n",
              "      <th>5</th>\n",
              "      <td>14.0</td>\n",
              "      <td>45.0</td>\n",
              "    </tr>\n",
              "    <tr>\n",
              "      <th>6</th>\n",
              "      <td>15.0</td>\n",
              "      <td>59.0</td>\n",
              "    </tr>\n",
              "    <tr>\n",
              "      <th>7</th>\n",
              "      <td>16.0</td>\n",
              "      <td>49.0</td>\n",
              "    </tr>\n",
              "    <tr>\n",
              "      <th>8</th>\n",
              "      <td>16.0</td>\n",
              "      <td>60.0</td>\n",
              "    </tr>\n",
              "    <tr>\n",
              "      <th>9</th>\n",
              "      <td>17.0</td>\n",
              "      <td>72.0</td>\n",
              "    </tr>\n",
              "    <tr>\n",
              "      <th>10</th>\n",
              "      <td>18.0</td>\n",
              "      <td>69.0</td>\n",
              "    </tr>\n",
              "    <tr>\n",
              "      <th>11</th>\n",
              "      <td>20.0</td>\n",
              "      <td>77.0</td>\n",
              "    </tr>\n",
              "  </tbody>\n",
              "</table>\n",
              "</div>\n",
              "      <button class=\"colab-df-convert\" onclick=\"convertToInteractive('df-340e5467-c5a9-4c11-ba5f-b9438748eb94')\"\n",
              "              title=\"Convert this dataframe to an interactive table.\"\n",
              "              style=\"display:none;\">\n",
              "        \n",
              "  <svg xmlns=\"http://www.w3.org/2000/svg\" height=\"24px\"viewBox=\"0 0 24 24\"\n",
              "       width=\"24px\">\n",
              "    <path d=\"M0 0h24v24H0V0z\" fill=\"none\"/>\n",
              "    <path d=\"M18.56 5.44l.94 2.06.94-2.06 2.06-.94-2.06-.94-.94-2.06-.94 2.06-2.06.94zm-11 1L8.5 8.5l.94-2.06 2.06-.94-2.06-.94L8.5 2.5l-.94 2.06-2.06.94zm10 10l.94 2.06.94-2.06 2.06-.94-2.06-.94-.94-2.06-.94 2.06-2.06.94z\"/><path d=\"M17.41 7.96l-1.37-1.37c-.4-.4-.92-.59-1.43-.59-.52 0-1.04.2-1.43.59L10.3 9.45l-7.72 7.72c-.78.78-.78 2.05 0 2.83L4 21.41c.39.39.9.59 1.41.59.51 0 1.02-.2 1.41-.59l7.78-7.78 2.81-2.81c.8-.78.8-2.07 0-2.86zM5.41 20L4 18.59l7.72-7.72 1.47 1.35L5.41 20z\"/>\n",
              "  </svg>\n",
              "      </button>\n",
              "      \n",
              "  <style>\n",
              "    .colab-df-container {\n",
              "      display:flex;\n",
              "      flex-wrap:wrap;\n",
              "      gap: 12px;\n",
              "    }\n",
              "\n",
              "    .colab-df-convert {\n",
              "      background-color: #E8F0FE;\n",
              "      border: none;\n",
              "      border-radius: 50%;\n",
              "      cursor: pointer;\n",
              "      display: none;\n",
              "      fill: #1967D2;\n",
              "      height: 32px;\n",
              "      padding: 0 0 0 0;\n",
              "      width: 32px;\n",
              "    }\n",
              "\n",
              "    .colab-df-convert:hover {\n",
              "      background-color: #E2EBFA;\n",
              "      box-shadow: 0px 1px 2px rgba(60, 64, 67, 0.3), 0px 1px 3px 1px rgba(60, 64, 67, 0.15);\n",
              "      fill: #174EA6;\n",
              "    }\n",
              "\n",
              "    [theme=dark] .colab-df-convert {\n",
              "      background-color: #3B4455;\n",
              "      fill: #D2E3FC;\n",
              "    }\n",
              "\n",
              "    [theme=dark] .colab-df-convert:hover {\n",
              "      background-color: #434B5C;\n",
              "      box-shadow: 0px 1px 3px 1px rgba(0, 0, 0, 0.15);\n",
              "      filter: drop-shadow(0px 1px 2px rgba(0, 0, 0, 0.3));\n",
              "      fill: #FFFFFF;\n",
              "    }\n",
              "  </style>\n",
              "\n",
              "      <script>\n",
              "        const buttonEl =\n",
              "          document.querySelector('#df-340e5467-c5a9-4c11-ba5f-b9438748eb94 button.colab-df-convert');\n",
              "        buttonEl.style.display =\n",
              "          google.colab.kernel.accessAllowed ? 'block' : 'none';\n",
              "\n",
              "        async function convertToInteractive(key) {\n",
              "          const element = document.querySelector('#df-340e5467-c5a9-4c11-ba5f-b9438748eb94');\n",
              "          const dataTable =\n",
              "            await google.colab.kernel.invokeFunction('convertToInteractive',\n",
              "                                                     [key], {});\n",
              "          if (!dataTable) return;\n",
              "\n",
              "          const docLinkHtml = 'Like what you see? Visit the ' +\n",
              "            '<a target=\"_blank\" href=https://colab.research.google.com/notebooks/data_table.ipynb>data table notebook</a>'\n",
              "            + ' to learn more about interactive tables.';\n",
              "          element.innerHTML = '';\n",
              "          dataTable['output_type'] = 'display_data';\n",
              "          await google.colab.output.renderOutput(dataTable, element);\n",
              "          const docLink = document.createElement('div');\n",
              "          docLink.innerHTML = docLinkHtml;\n",
              "          element.appendChild(docLink);\n",
              "        }\n",
              "      </script>\n",
              "    </div>\n",
              "  </div>\n",
              "  "
            ],
            "text/plain": [
              "    education  salary\n",
              "0        10.0    33.0\n",
              "1        12.0    36.0\n",
              "2        12.0    50.0\n",
              "3        13.0    51.0\n",
              "4        14.0    42.0\n",
              "5        14.0    45.0\n",
              "6        15.0    59.0\n",
              "7        16.0    49.0\n",
              "8        16.0    60.0\n",
              "9        17.0    72.0\n",
              "10       18.0    69.0\n",
              "11       20.0    77.0"
            ]
          },
          "metadata": {},
          "execution_count": 71
        }
      ]
    },
    {
      "cell_type": "code",
      "source": [
        "x=raw_data['education']\n",
        "y=raw_data['salary']"
      ],
      "metadata": {
        "id": "26Q_K7z99YsC"
      },
      "execution_count": null,
      "outputs": []
    },
    {
      "cell_type": "code",
      "source": [
        "#Reshaping the x and y variables to 2D array\n",
        "x=x.array.reshape(-1,1)\n",
        "y=y.array.reshape(-1,1)"
      ],
      "metadata": {
        "id": "WKqsHW-Yq_uN"
      },
      "execution_count": null,
      "outputs": []
    },
    {
      "cell_type": "code",
      "source": [
        "from sklearn.pipeline import Pipeline\n",
        "from sklearn.preprocessing import MinMaxScaler\n",
        "from sklearn.svm import SVR\n",
        "from sklearn.model_selection import GridSearchCV\n",
        "#Building SVR Model\n",
        "parameters = {'kernel':['linear','rbf','polynomial'],'C':[1,5,10,50,100,500,1000], 'epsilon':[0.05, 0.1, 0.15, 0.2]}\n",
        "svr = SVR()\n",
        "model = GridSearchCV(svr, parameters)\n",
        "model.fit(x,y)\n",
        "svr.fit(x,y)\n",
        "model.best_params_"
      ],
      "metadata": {
        "id": "vlm5uLKw9feC",
        "colab": {
          "base_uri": "https://localhost:8080/"
        },
        "outputId": "dd766e8a-caa1-4e55-d554-68ed44dc9b9a"
      },
      "execution_count": null,
      "outputs": [
        {
          "output_type": "execute_result",
          "data": {
            "text/plain": [
              "{'C': 100, 'epsilon': 0.2, 'kernel': 'linear'}"
            ]
          },
          "metadata": {},
          "execution_count": 74
        }
      ]
    },
    {
      "cell_type": "code",
      "source": [
        "model.best_score_"
      ],
      "metadata": {
        "colab": {
          "base_uri": "https://localhost:8080/"
        },
        "id": "YaqIwY7CrHVz",
        "outputId": "5c799e11-be6c-4687-d730-86020559f02b"
      },
      "execution_count": null,
      "outputs": [
        {
          "output_type": "execute_result",
          "data": {
            "text/plain": [
              "-0.4916016591994036"
            ]
          },
          "metadata": {},
          "execution_count": 75
        }
      ]
    },
    {
      "cell_type": "code",
      "source": [
        "# Plot the data, SVR and regression models\n",
        "%matplotlib inline\n",
        "import matplotlib.pyplot as plt\n",
        "\n",
        "plt.plot(x, y, 'b^') # data; 'g^' for blue triangle\n",
        "\n",
        "y_svr = svr.predict(x)\n",
        "plt.plot(x, y_svr+5, 'g--', linewidth=1) # upper margin line; green dash\n",
        "plt.plot(x, y_svr, 'k-', linewidth=2) # svr model line; black solid\n",
        "plt.plot(x, y_svr-5, 'g--', linewidth=1) # lower margin line; green dash\n",
        "\n",
        "y_reg = model.predict(x)\n",
        "plt.plot(x, y_reg, 'r--', linewidth=2) # regression line; red dash\n",
        "\n",
        "plt.title('Data, SVR and Regression', fontsize=16)\n",
        "plt.xlabel('education', fontsize=14)\n",
        "plt.ylabel('salary', fontsize=14)"
      ],
      "metadata": {
        "id": "8yOSOqCzsFD6",
        "colab": {
          "base_uri": "https://localhost:8080/",
          "height": 317
        },
        "outputId": "92227b28-6e55-4f0d-a1fa-e82be43070b2"
      },
      "execution_count": null,
      "outputs": [
        {
          "output_type": "execute_result",
          "data": {
            "text/plain": [
              "Text(0, 0.5, 'salary')"
            ]
          },
          "metadata": {},
          "execution_count": 76
        },
        {
          "output_type": "display_data",
          "data": {
            "image/png": "[encoded data removed]",
            "text/plain": [
              "<Figure size 432x288 with 1 Axes>"
            ]
          },
          "metadata": {
            "needs_background": "light"
          }
        }
      ]
    },
    {
      "cell_type": "markdown",
      "source": [
        "Finally see the SVR denoted by the black line and the green dotted lines denoting the decision boundary with the hyperplane parameters a as + and - 5."
      ],
      "metadata": {
        "id": "aEDt91qe8Hhn"
      }
    },
    {
      "cell_type": "markdown",
      "source": [
        "## 3. Weighted Nearest Neighbor Model\n",
        "\n",
        "Weighted k-nearest neighbors (k-NN) classification algorithm is a relatively simple technique to predict the class of an item based on two or more numeric predictor variables. \n",
        "\n",
        "In weighted kNN, the nearest k points are given a weight using a function called as the kernel function. The intuition behind weighted kNN, is to give more weight to the points which are nearby and less weight to the points which are farther away\n",
        "\n",
        "For example, you might want to predict the political party affiliation (democrat, republican, independent) of a person based on their age, annual income, gender, years of education and so on. \n",
        "\n",
        "In Python we use the sklearn.neighbors.KNeighborsClassifier library to call the KNN classifier and the syntax is as below-\n",
        "KNeighborsClassifier(n_neighbors=5, *, weights='uniform', algorithm='auto', leaf_size=30, p=2, metric='minkowski', metric_params=None, n_jobs=None)\n",
        "\n",
        "Where in weights- we denote either uniform or distance. In distance, closer neighbors of a query point will have a greater influence than neighbors which are further away\n",
        "W can also set weights- callable where callable is a user-defined function which accepts an array of distances, and returns an array of the same shape containing the weights."
      ],
      "metadata": {
        "id": "4XzIuFaBAFGs"
      }
    }
  ]
}
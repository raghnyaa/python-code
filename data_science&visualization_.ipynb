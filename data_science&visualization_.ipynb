{
  "nbformat": 4,
  "nbformat_minor": 0,
  "metadata": {
    "colab": {
      "provenance": []
    },
    "kernelspec": {
      "name": "python3",
      "display_name": "Python 3"
    },
    "language_info": {
      "name": "python"
    }
  },
  "cells": [
    {
      "cell_type": "markdown",
      "source": [
        "## Data Science and Visualization Samples\n"
      ],
      "metadata": {
        "id": "5moIYtl0gi1c"
      }
    },
    {
      "cell_type": "code",
      "execution_count": null,
      "metadata": {
        "colab": {
          "base_uri": "https://localhost:8080/"
        },
        "id": "jO1GwEUAPR4A",
        "outputId": "421a305c-7af9-4f82-b0fd-957b50aaba48"
      },
      "outputs": [
        {
          "output_type": "stream",
          "name": "stdout",
          "text": [
            "Drive already mounted at /content/drive; to attempt to forcibly remount, call drive.mount(\"/content/drive\", force_remount=True).\n"
          ]
        }
      ],
      "source": [
        "#Import all required libraries\n",
        "import pandas as pd\n",
        "from matplotlib import style\n",
        "from matplotlib import pyplot as plt\n",
        "style.use(\"fivethirtyeight\")\n",
        "from sklearn.linear_model import LogisticRegression\n",
        "from sklearn.linear_model import LinearRegression\n",
        "from sklearn.model_selection import train_test_split\n",
        "import seaborn as sns\n",
        "#Mounting the drive \n",
        "from google.colab import drive\n",
        "drive.mount('/content/drive')\n",
        "import warnings\n",
        "warnings.filterwarnings('ignore')\n",
        "#Setting preferences to display our data\n",
        "pd.set_option(\"display.max_columns\", 60)\n",
        "pd.set_option('display.max_rows', 50)\n",
        "pd.set_option('display.width', 1000)\n"
      ]
    },
    {
      "cell_type": "code",
      "source": [
        "#import the titanic csv data into the dataframe \"data\"\n",
        "data = pd.read_csv(\"/content/drive/MyDrive/Colab/Datasets/titanic_data.csv\")"
      ],
      "metadata": {
        "id": "XqVWAGThRFfL"
      },
      "execution_count": null,
      "outputs": []
    },
    {
      "cell_type": "markdown",
      "source": [
        "# Data Visualization\n",
        "\n",
        "We draw bar plots for differrent variables to understand what is a useful metric to predict if a passenger survives or not"
      ],
      "metadata": {
        "id": "obDhbvxGE6tm"
      }
    },
    {
      "cell_type": "code",
      "source": [
        "#Exploring the data and understanding different variables\n",
        "ax= sns.countplot(x='Survived',data=data)\n",
        "#Code to show the axes lables\n",
        "for p in ax.patches:\n",
        "   ax.annotate('{:}'.format(p.get_height()), (p.get_x()+0.32, p.get_height()+0.01))\n",
        "#Show the final plot\n",
        "plt.show()"
      ],
      "metadata": {
        "colab": {
          "base_uri": "https://localhost:8080/",
          "height": 304
        },
        "id": "Th45DnruTQoo",
        "outputId": "6f947313-d1b1-430e-f1d6-1f55e3490e22"
      },
      "execution_count": null,
      "outputs": [
        {
          "output_type": "display_data",
          "data": {
            "image/png": "[encoded data removed]",
            "text/plain": [
              "<Figure size 432x288 with 1 Axes>"
            ]
          },
          "metadata": {}
        }
      ]
    },
    {
      "cell_type": "markdown",
      "source": [
        "From the above plot, it can be inferred:\n",
        "\n",
        "Number of people who survived - 342\n",
        "\n",
        "Number of people who did not survive - 549\n",
        "\n",
        "---\n",
        "\n"
      ],
      "metadata": {
        "id": "XKBVbXiZU4Dm"
      }
    },
    {
      "cell_type": "code",
      "source": [
        "# Plotting bar graphs for the categorical variable Sex\n",
        "data.groupby('Sex').Survived.mean().plot(kind='bar', color= 'blue')"
      ],
      "metadata": {
        "colab": {
          "base_uri": "https://localhost:8080/",
          "height": 356
        },
        "id": "TVblqSjeDiq6",
        "outputId": "5ca183b6-bf83-42cf-fe97-8b48c40558af"
      },
      "execution_count": null,
      "outputs": [
        {
          "output_type": "execute_result",
          "data": {
            "text/plain": [
              "<matplotlib.axes._subplots.AxesSubplot at 0x7f9e98b55190>"
            ]
          },
          "metadata": {},
          "execution_count": 142
        },
        {
          "output_type": "display_data",
          "data": {
            "image/png": "[encoded data removed]",
            "text/plain": [
              "<Figure size 432x288 with 1 Axes>"
            ]
          },
          "metadata": {}
        }
      ]
    },
    {
      "cell_type": "code",
      "source": [
        "# Plotting bar graphs for the categorical variable Pclass\n",
        "data.groupby('Pclass').Survived.mean().plot(kind='bar', color= 'red')"
      ],
      "metadata": {
        "colab": {
          "base_uri": "https://localhost:8080/",
          "height": 317
        },
        "id": "Gi7Gk68jEesr",
        "outputId": "51502009-0439-46cb-95ff-8f9fa554f43a"
      },
      "execution_count": null,
      "outputs": [
        {
          "output_type": "execute_result",
          "data": {
            "text/plain": [
              "<matplotlib.axes._subplots.AxesSubplot at 0x7f9e94f43f50>"
            ]
          },
          "metadata": {},
          "execution_count": 143
        },
        {
          "output_type": "display_data",
          "data": {
            "image/png": "[encoded data removed]",
            "text/plain": [
              "<Figure size 432x288 with 1 Axes>"
            ]
          },
          "metadata": {}
        }
      ]
    },
    {
      "cell_type": "code",
      "source": [
        "# Plotting bar graphs for the categorical variable Embarked\n",
        "data.groupby('Embarked').Survived.mean().plot(kind='bar', color='green')"
      ],
      "metadata": {
        "colab": {
          "base_uri": "https://localhost:8080/",
          "height": 319
        },
        "id": "LxI9apeSEekL",
        "outputId": "b68a9d6a-8988-4c60-dfac-719401bc8237"
      },
      "execution_count": null,
      "outputs": [
        {
          "output_type": "execute_result",
          "data": {
            "text/plain": [
              "<matplotlib.axes._subplots.AxesSubplot at 0x7f9e94f43e10>"
            ]
          },
          "metadata": {},
          "execution_count": 144
        },
        {
          "output_type": "display_data",
          "data": {
            "image/png": "[encoded data removed]",
            "text/plain": [
              "<Figure size 432x288 with 1 Axes>"
            ]
          },
          "metadata": {}
        }
      ]
    },
    {
      "cell_type": "markdown",
      "source": [
        "From the above three plots on the mean value of Survived column, we can infer the following:\n",
        "\n",
        "\n",
        "1.   Females have survived more than males\n",
        "2.   Passengers in class 1 tend to survive more than classes 2 and 3\n",
        "3.  Passengers with port of embarkation as Cherbourg tend to survive more than Southampton or Queenstown\n",
        "\n"
      ],
      "metadata": {
        "id": "H1X-dRWWG4zr"
      }
    },
    {
      "cell_type": "markdown",
      "source": [
        "# Data Preparation\n",
        "\n",
        "We then move on to cleaning up the data"
      ],
      "metadata": {
        "id": "wUR0Pxp1HjUL"
      }
    },
    {
      "cell_type": "code",
      "source": [
        "#Check for missing values\n",
        "data.isna().sum()"
      ],
      "metadata": {
        "colab": {
          "base_uri": "https://localhost:8080/"
        },
        "id": "bLJ-HjxAy440",
        "outputId": "61814e11-5a15-4872-f965-68d01364344a"
      },
      "execution_count": null,
      "outputs": [
        {
          "output_type": "execute_result",
          "data": {
            "text/plain": [
              "PassengerId      0\n",
              "Survived         0\n",
              "Pclass           0\n",
              "Name             0\n",
              "Sex              0\n",
              "Age            177\n",
              "SibSp            0\n",
              "Parch            0\n",
              "Ticket           0\n",
              "Fare             0\n",
              "Cabin          687\n",
              "Embarked         2\n",
              "dtype: int64"
            ]
          },
          "metadata": {},
          "execution_count": 145
        }
      ]
    },
    {
      "cell_type": "markdown",
      "source": [
        "Age, Cabin and Embarked variables seem to have missing values.\n",
        "\n",
        "Since Cabin has 687 missing values and our data contains 891 rows of data, we can drop the Cabin column as it will not have a significant effect on our response variable \"Survived\"\n",
        "\n",
        "For Age column- calculate the mean of all the ages and fill the null values with the mean\n",
        "\n",
        "For Embarked since there are only two missing values we add the mode to missing values\n",
        "\n"
      ],
      "metadata": {
        "id": "FJCsDdSFz2T9"
      }
    },
    {
      "cell_type": "code",
      "source": [
        "#Handle the missing values\n",
        "data= data.drop(columns=['Cabin'],axis=1)\n",
        "data['Age'] = data['Age'].fillna(data['Age'].mean())\n",
        "data['Embarked']= data['Embarked'].fillna(data['Embarked'].mode()[0])"
      ],
      "metadata": {
        "id": "iOHPmXzd2W0x"
      },
      "execution_count": null,
      "outputs": []
    },
    {
      "cell_type": "code",
      "source": [
        "data.isna().sum()"
      ],
      "metadata": {
        "colab": {
          "base_uri": "https://localhost:8080/"
        },
        "id": "0058O8hT3x35",
        "outputId": "0ac85e29-a452-4a4b-f797-158d8c79dcc0"
      },
      "execution_count": null,
      "outputs": [
        {
          "output_type": "execute_result",
          "data": {
            "text/plain": [
              "PassengerId    0\n",
              "Survived       0\n",
              "Pclass         0\n",
              "Name           0\n",
              "Sex            0\n",
              "Age            0\n",
              "SibSp          0\n",
              "Parch          0\n",
              "Ticket         0\n",
              "Fare           0\n",
              "Embarked       0\n",
              "dtype: int64"
            ]
          },
          "metadata": {},
          "execution_count": 149
        }
      ]
    },
    {
      "cell_type": "markdown",
      "source": [
        "No missing values in our data"
      ],
      "metadata": {
        "id": "8JvNZC1P7RZb"
      }
    },
    {
      "cell_type": "code",
      "source": [
        "#Getting Information about data\n",
        "data.info()"
      ],
      "metadata": {
        "colab": {
          "base_uri": "https://localhost:8080/"
        },
        "id": "k6QTv9Pt2RzO",
        "outputId": "9d0c0603-86f5-497a-b38c-fe510c043df6"
      },
      "execution_count": null,
      "outputs": [
        {
          "output_type": "stream",
          "name": "stdout",
          "text": [
            "<class 'pandas.core.frame.DataFrame'>\n",
            "RangeIndex: 891 entries, 0 to 890\n",
            "Data columns (total 11 columns):\n",
            " #   Column       Non-Null Count  Dtype  \n",
            "---  ------       --------------  -----  \n",
            " 0   PassengerId  891 non-null    int64  \n",
            " 1   Survived     891 non-null    int64  \n",
            " 2   Pclass       891 non-null    int64  \n",
            " 3   Name         891 non-null    object \n",
            " 4   Sex          891 non-null    object \n",
            " 5   Age          891 non-null    float64\n",
            " 6   SibSp        891 non-null    int64  \n",
            " 7   Parch        891 non-null    int64  \n",
            " 8   Ticket       891 non-null    object \n",
            " 9   Fare         891 non-null    float64\n",
            " 10  Embarked     891 non-null    object \n",
            "dtypes: float64(2), int64(5), object(4)\n",
            "memory usage: 76.7+ KB\n"
          ]
        }
      ]
    },
    {
      "cell_type": "markdown",
      "source": [
        "# Q1. Exploring Name column \n",
        "\n",
        "We then explore the Name column for patterns in predicting if the passenger survived or not"
      ],
      "metadata": {
        "id": "Ih7anje77U1x"
      }
    },
    {
      "cell_type": "code",
      "source": [
        "# Exploring Name column for patterns\n",
        "data.Name"
      ],
      "metadata": {
        "colab": {
          "base_uri": "https://localhost:8080/"
        },
        "id": "zegofVO07nb7",
        "outputId": "b271c7a1-9e68-4753-b98b-34e9b9bebced"
      },
      "execution_count": null,
      "outputs": [
        {
          "output_type": "execute_result",
          "data": {
            "text/plain": [
              "0                                Braund, Mr. Owen Harris\n",
              "1      Cumings, Mrs. John Bradley (Florence Briggs Th...\n",
              "2                                 Heikkinen, Miss. Laina\n",
              "3           Futrelle, Mrs. Jacques Heath (Lily May Peel)\n",
              "4                               Allen, Mr. William Henry\n",
              "                             ...                        \n",
              "886                                Montvila, Rev. Juozas\n",
              "887                         Graham, Miss. Margaret Edith\n",
              "888           Johnston, Miss. Catherine Helen \\Carrie\\\"\"\n",
              "889                                Behr, Mr. Karl Howell\n",
              "890                                  Dooley, Mr. Patrick\n",
              "Name: Name, Length: 891, dtype: object"
            ]
          },
          "metadata": {},
          "execution_count": 151
        }
      ]
    },
    {
      "cell_type": "markdown",
      "source": [
        "We can see that the name column has titles Mr. , Miss, Mrs., Master etc. \n",
        "\n",
        "We can extract the column titles and see if there are any patterns with respect to the Titles"
      ],
      "metadata": {
        "id": "bms6JzxB7sKG"
      }
    },
    {
      "cell_type": "markdown",
      "source": [
        "# Handling categorical variables\n",
        "\n",
        "We also need to convert the other categorical variables to int format so we can perform Regression. \n",
        "\n",
        "We have Sex and Embarked that have distinct values to which we assign a numerical value as below"
      ],
      "metadata": {
        "id": "Ng4COgnf-5Pu"
      }
    },
    {
      "cell_type": "code",
      "source": [
        "#Handling the categorical variables to prepare for logistic regression\n",
        "data['Sex'].replace('male', 1 ,inplace=True) \n",
        "data['Sex'].replace('female', 0, inplace= True)\n",
        "data['Embarked'].replace(['S', 'C', 'Q'],[1,2,3],inplace=True)\n",
        "#Extract the title in the name \n",
        "data['Title'] = data['Name'].str.extract(r', (\\w+\\.)') #Store the extracted title in a column Title\n",
        "dummy = pd.get_dummies(data.Title, prefix='Titles')# Create dummy variables for Title \n",
        "data=pd.merge( # Merge the dummy variables to our dataset\n",
        "    left=data,\n",
        "    right=dummy,\n",
        "    left_index=True,\n",
        "    right_index=True,\n",
        ")\n",
        "data.info()"
      ],
      "metadata": {
        "colab": {
          "base_uri": "https://localhost:8080/"
        },
        "id": "qXT7yUgxSwsB",
        "outputId": "a94e79c4-60a6-4afa-d9c4-7ae8e2276265"
      },
      "execution_count": null,
      "outputs": [
        {
          "output_type": "stream",
          "name": "stdout",
          "text": [
            "<class 'pandas.core.frame.DataFrame'>\n",
            "RangeIndex: 891 entries, 0 to 890\n",
            "Data columns (total 28 columns):\n",
            " #   Column            Non-Null Count  Dtype  \n",
            "---  ------            --------------  -----  \n",
            " 0   PassengerId       891 non-null    int64  \n",
            " 1   Survived          891 non-null    int64  \n",
            " 2   Pclass            891 non-null    int64  \n",
            " 3   Name              891 non-null    object \n",
            " 4   Sex               891 non-null    int64  \n",
            " 5   Age               891 non-null    float64\n",
            " 6   SibSp             891 non-null    int64  \n",
            " 7   Parch             891 non-null    int64  \n",
            " 8   Ticket            891 non-null    object \n",
            " 9   Fare              891 non-null    float64\n",
            " 10  Embarked          891 non-null    int64  \n",
            " 11  Title             890 non-null    object \n",
            " 12  Titles_Capt.      891 non-null    uint8  \n",
            " 13  Titles_Col.       891 non-null    uint8  \n",
            " 14  Titles_Don.       891 non-null    uint8  \n",
            " 15  Titles_Dr.        891 non-null    uint8  \n",
            " 16  Titles_Jonkheer.  891 non-null    uint8  \n",
            " 17  Titles_Lady.      891 non-null    uint8  \n",
            " 18  Titles_Major.     891 non-null    uint8  \n",
            " 19  Titles_Master.    891 non-null    uint8  \n",
            " 20  Titles_Miss.      891 non-null    uint8  \n",
            " 21  Titles_Mlle.      891 non-null    uint8  \n",
            " 22  Titles_Mme.       891 non-null    uint8  \n",
            " 23  Titles_Mr.        891 non-null    uint8  \n",
            " 24  Titles_Mrs.       891 non-null    uint8  \n",
            " 25  Titles_Ms.        891 non-null    uint8  \n",
            " 26  Titles_Rev.       891 non-null    uint8  \n",
            " 27  Titles_Sir.       891 non-null    uint8  \n",
            "dtypes: float64(2), int64(7), object(3), uint8(16)\n",
            "memory usage: 97.6+ KB\n"
          ]
        }
      ]
    },
    {
      "cell_type": "markdown",
      "source": [
        "Notice how all the columns we require in our Regression have been converted to type Int, ready for analysis!"
      ],
      "metadata": {
        "id": "TrQPj-iSCKaA"
      }
    },
    {
      "cell_type": "code",
      "source": [
        "#Visualizing the Title column to see patterns in predicting survival\n",
        "plt.figure(figsize=(8,6))\n",
        "sns.barplot(x= \"Title\",y='Survived', data = data)\n",
        "plt.xticks(rotation='45')\n",
        "plt.show()"
      ],
      "metadata": {
        "colab": {
          "base_uri": "https://localhost:8080/",
          "height": 462
        },
        "id": "jmpum3ofKAc8",
        "outputId": "0c1baae2-43af-4036-e3f0-fb7b5e18bc44"
      },
      "execution_count": null,
      "outputs": [
        {
          "output_type": "display_data",
          "data": {
            "image/png": "[encoded data removed]",
            "text/plain": [
              "<Figure size 576x432 with 1 Axes>"
            ]
          },
          "metadata": {}
        }
      ]
    },
    {
      "cell_type": "markdown",
      "source": [
        "\n",
        "We can see an insight into who is likely to survive based on the title as Mrs. could be translated to wife, and master/miss could be children and single ladies. Women are clearly less likely to survive than some men and this is contradicting our visualization of survival based on gender in the figure above"
      ],
      "metadata": {
        "id": "gqZeh8-N4onR"
      }
    },
    {
      "cell_type": "markdown",
      "source": [
        "#Q2. Logistic Regression"
      ],
      "metadata": {
        "id": "QbbmpzGkM85a"
      }
    },
    {
      "cell_type": "code",
      "source": [
        "import numpy as np\n",
        "list= np.array(x_test)\n",
        "list.shape"
      ],
      "metadata": {
        "colab": {
          "base_uri": "https://localhost:8080/"
        },
        "id": "Wd6fGAcl8Ubd",
        "outputId": "643d93d2-b33e-4600-da7d-3a7da8bf782a"
      },
      "execution_count": null,
      "outputs": [
        {
          "output_type": "execute_result",
          "data": {
            "text/plain": [
              "(268, 23)"
            ]
          },
          "metadata": {},
          "execution_count": 95
        }
      ]
    },
    {
      "cell_type": "code",
      "source": [
        "#separate the x and y variables\n",
        "x= data.loc[:, ~data.columns.isin(['Survived','PassengerId','Ticket','Title','Name'])]\n",
        "y= data['Survived']\n",
        "#split the dataset into training and testing data\n",
        "x_train, x_test, y_train, y_test = train_test_split(x, y, test_size=0.3, random_state=0)#Random state 0 will ensure a consistent result across samples\n",
        "# Fit the Logistic regression model using training data\n",
        "logreg = LogisticRegression(solver=\"liblinear\")\n",
        "logreg.fit(x_train, y_train)\n",
        "#calcuate the predicted values using testing data\n",
        "y_pred = logreg.predict(x_test)\n",
        "\n",
        "#Confusion Matrix code\n",
        "from sklearn.metrics import confusion_matrix\n",
        "confusion_matrix = confusion_matrix(y_test, y_pred)\n",
        "print(confusion_matrix)\n",
        "\n",
        "from sklearn.metrics import classification_report\n",
        "print(classification_report(y_test, y_pred))\n"
      ],
      "metadata": {
        "colab": {
          "base_uri": "https://localhost:8080/"
        },
        "id": "hsLkgWPnXV1y",
        "outputId": "0cf04135-215b-4d32-82d1-c2e6629c7936"
      },
      "execution_count": null,
      "outputs": [
        {
          "output_type": "stream",
          "name": "stdout",
          "text": [
            "[[142  26]\n",
            " [ 23  77]]\n",
            "              precision    recall  f1-score   support\n",
            "\n",
            "           0       0.86      0.85      0.85       168\n",
            "           1       0.75      0.77      0.76       100\n",
            "\n",
            "    accuracy                           0.82       268\n",
            "   macro avg       0.80      0.81      0.81       268\n",
            "weighted avg       0.82      0.82      0.82       268\n",
            "\n"
          ]
        }
      ]
    },
    {
      "cell_type": "markdown",
      "source": [
        "# Q3 Linear Regression\n",
        "\n",
        "Linear Regression assumes that the response variable (dependent variable) is numeric or quantitative\n",
        "\n",
        "Logistic Regression predicts the response(dependent) variable when it is of non-numeric type or qualitative\n",
        "\n",
        "Our dataset is predicting whether a passenger survives or not which is not a numeric variable, but a qualitative data point. Therefore, we use Logistic regression and NOT linear regression\n"
      ],
      "metadata": {
        "id": "VTR-lrWpldrP"
      }
    },
    {
      "cell_type": "code",
      "source": [
        "#4. KNN\n",
        "from sklearn.neighbors import KNeighborsRegressor\n",
        "from sklearn import metrics\n",
        "from sklearn.pipeline import Pipeline\n",
        "from sklearn.preprocessing import MinMaxScaler\n",
        "#Createa a model using the pipelines library\n",
        "model_2 = Pipeline([('a', MinMaxScaler()), ('b', KNeighborsClassifier())])\n",
        "model_2.fit(x_train, y_train)\n",
        "y_pred_pipe=model_2.predict(x_test)\n",
        "#Confusion matrix for model_2\n",
        "from sklearn.metrics import confusion_matrix\n",
        "confusion_matrix = confusion_matrix(y_test, y_pred_pipe)\n",
        "print(confusion_matrix)\n",
        "from sklearn.metrics import classification_report\n",
        "print(classification_report(y_test, y_pred_pipe))\n"
      ],
      "metadata": {
        "colab": {
          "base_uri": "https://localhost:8080/"
        },
        "id": "8gimqWAbVYXX",
        "outputId": "e749d7e2-fd2e-413c-a91c-56a925ccff36"
      },
      "execution_count": null,
      "outputs": [
        {
          "output_type": "stream",
          "name": "stdout",
          "text": [
            "[[142  26]\n",
            " [ 29  71]]\n",
            "              precision    recall  f1-score   support\n",
            "\n",
            "           0       0.83      0.85      0.84       168\n",
            "           1       0.73      0.71      0.72       100\n",
            "\n",
            "    accuracy                           0.79       268\n",
            "   macro avg       0.78      0.78      0.78       268\n",
            "weighted avg       0.79      0.79      0.79       268\n",
            "\n"
          ]
        }
      ]
    },
    {
      "cell_type": "markdown",
      "source": [
        "\n",
        "KNN is a lazy-learning algorithm and it does function is only approximated locally and all computation is deferred until function evaluation."
      ],
      "metadata": {
        "id": "GjRLHttJBMHk"
      }
    },
    {
      "cell_type": "markdown",
      "source": [
        "#Q5. KNN Using Grid Search\n",
        "\n",
        "Grid search is essentially an optimization algorithm which lets you select the best parameters for your optimization problem from a list of parameter options that you provide, hence automating the 'trial-and-error' method"
      ],
      "metadata": {
        "id": "Tr6VQXjIPi4K"
      }
    },
    {
      "cell_type": "code",
      "source": [
        "from sklearn.model_selection import GridSearchCV #Import the Gridsearch functions\n",
        "model_3 = KNeighborsRegressor()\n",
        "grid_params = {\n",
        "    'n_neighbors': [1, 2, 3, 4, 5, 6, 7, 8, 9, 10, 11, 12, 13, 14, 15, 16, 17, 18,20,21,22,23,24],\n",
        "    'weights': ['distance'],\n",
        "    'metric': ['euclidean', 'manhattan']\n",
        "}\n",
        "gs = GridSearchCV(KNeighborsRegressor(),\n",
        "                  grid_params,\n",
        "                  verbose=1,\n",
        "                  cv=5,\n",
        "                  n_jobs=-1)\n",
        "gs_results = gs.fit(scaled_x_train, y_train)\n",
        "pred_grid= gs.predict(scaled_x_test)\n",
        "error = sqrt(mean_squared_error(y_test,pred_grid)) #calculate rmse\n",
        "rmse_val.append(error) #store rmse values\n",
        "print('RMSE value for k= ' , gs_results.best_estimator_.n_neighbors , 'is:', error)\n",
        "#gs_results.best_score_\n",
        "#gs_results.best_estimator_\n",
        "gs_results.best_params_\n"
      ],
      "metadata": {
        "colab": {
          "base_uri": "https://localhost:8080/"
        },
        "id": "lx846ikMDgX2",
        "outputId": "4e58659a-c78d-4d4d-83dd-8a3df3f0d591"
      },
      "execution_count": null,
      "outputs": [
        {
          "output_type": "stream",
          "name": "stdout",
          "text": [
            "Fitting 5 folds for each of 46 candidates, totalling 230 fits\n",
            "RMSE value for k=  15 is: 0.3822486380867736\n"
          ]
        },
        {
          "output_type": "execute_result",
          "data": {
            "text/plain": [
              "{'metric': 'manhattan', 'n_neighbors': 15, 'weights': 'distance'}"
            ]
          },
          "metadata": {},
          "execution_count": 127
        }
      ]
    },
    {
      "cell_type": "markdown",
      "source": [
        "#Q6 Using K=1 to see the model performance\n"
      ],
      "metadata": {
        "id": "Wy-YlShnEb_l"
      }
    },
    {
      "cell_type": "code",
      "source": [
        "model_4 = KNeighborsRegressor(n_neighbors = 1)\n",
        "model_4.fit(scaled_x_train, y_train)  #fit the model\n",
        "pred_1= model_4.predict(scaled_x_test) #make prediction on test set\n",
        "#Confusion matrix for model_4\n",
        "from sklearn.metrics import confusion_matrix\n",
        "confusion_matrix = confusion_matrix(y_test, pred_1)\n",
        "print(confusion_matrix)\n",
        "from sklearn.metrics import classification_report\n",
        "print(classification_report(y_test, pred_1))\n",
        "    "
      ],
      "metadata": {
        "colab": {
          "base_uri": "https://localhost:8080/"
        },
        "id": "cI5jTVFcEaAk",
        "outputId": "0e19cbf8-a77f-4240-8935-70d19d67f5e8"
      },
      "execution_count": null,
      "outputs": [
        {
          "output_type": "stream",
          "name": "stdout",
          "text": [
            "[[137  31]\n",
            " [ 31  69]]\n",
            "              precision    recall  f1-score   support\n",
            "\n",
            "           0       0.82      0.82      0.82       168\n",
            "           1       0.69      0.69      0.69       100\n",
            "\n",
            "    accuracy                           0.77       268\n",
            "   macro avg       0.75      0.75      0.75       268\n",
            "weighted avg       0.77      0.77      0.77       268\n",
            "\n"
          ]
        }
      ]
    },
    {
      "cell_type": "markdown",
      "source": [
        "#Q7. Model Performance using K=N, where N is the number of data points"
      ],
      "metadata": {
        "id": "Ypzqwr40VWxb"
      }
    },
    {
      "cell_type": "code",
      "source": [
        "# Using K= N where N is the number of data points in the training dataset\n",
        "N= len(x_train)\n",
        "rmse_val = [] #to store rmse values for different k\n",
        "scores= []\n",
        "k_range =range(1,N)\n",
        "for K in k_range:  \n",
        "    model = KNeighborsRegressor(n_neighbors = K)\n",
        "    model.fit(scaled_x_train, y_train)  #fit the model\n",
        "    pred=model.predict(scaled_x_test) #make prediction on test set\n",
        "    error = sqrt(mean_squared_error(y_test,pred)) #calculate rmse\n",
        "    rmse_val.append(error) #store rmse values\n",
        "    #print('RMSE value for k= ' , K-1 , 'is:', error)\n",
        "plt.plot(k_range,rmse_val)"
      ],
      "metadata": {
        "colab": {
          "base_uri": "https://localhost:8080/",
          "height": 300
        },
        "id": "r99Fdr2CFS8S",
        "outputId": "94741b4f-5daf-4d75-de23-65a57065a4b7"
      },
      "execution_count": null,
      "outputs": [
        {
          "output_type": "execute_result",
          "data": {
            "text/plain": [
              "[<matplotlib.lines.Line2D at 0x7f9e94c4a090>]"
            ]
          },
          "metadata": {},
          "execution_count": 156
        },
        {
          "output_type": "display_data",
          "data": {
            "image/png": "[encoded data removed]",
            "text/plain": [
              "<Figure size 432x288 with 1 Axes>"
            ]
          },
          "metadata": {}
        }
      ]
    },
    {
      "cell_type": "code",
      "source": [
        "# Classfication Using K= N where N is the number of data points in the training dataset \n",
        "kN = KNeighborsClassifier(n_neighbors = len(scaled_x_train)).fit(scaled_x_train,y_train)\n",
        "pred_n = kN.predict(scaled_x_test)\n",
        "print(classification_report(y_test,pred_n))"
      ],
      "metadata": {
        "colab": {
          "base_uri": "https://localhost:8080/"
        },
        "id": "fmSsUxyxaKtS",
        "outputId": "3696695d-a51c-4b20-ab2e-297e42b492a2"
      },
      "execution_count": null,
      "outputs": [
        {
          "output_type": "stream",
          "name": "stdout",
          "text": [
            "              precision    recall  f1-score   support\n",
            "\n",
            "           0       0.63      1.00      0.77       168\n",
            "           1       0.00      0.00      0.00       100\n",
            "\n",
            "    accuracy                           0.63       268\n",
            "   macro avg       0.31      0.50      0.39       268\n",
            "weighted avg       0.39      0.63      0.48       268\n",
            "\n"
          ]
        }
      ]
    },
    {
      "cell_type": "markdown",
      "source": [
        "We can see that this model has the lowest accuracy and is not a good classification"
      ],
      "metadata": {
        "id": "h8DHFur4WgJF"
      }
    }
  ]
}
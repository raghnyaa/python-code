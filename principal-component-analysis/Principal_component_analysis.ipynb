{
  "nbformat": 4,
  "nbformat_minor": 0,
  "metadata": {
    "colab": {
      "provenance": [],
      "collapsed_sections": []
    },
    "kernelspec": {
      "name": "python3",
      "display_name": "Python 3"
    },
    "language_info": {
      "name": "python"
    }
  },
  "cells": [
    {
      "cell_type": "markdown",
      "source": [
        "\n",
        "## 1. Principal Component Analysis (PCA)\n",
        "\n",
        "We are now going to perform PCA on the foodprices.xlsx dataset that contains the prices of 5 types of food items in different cities in the year 1973. "
      ],
      "metadata": {
        "id": "S7lw_mZ2pVbZ"
      }
    },
    {
      "cell_type": "code",
      "execution_count": null,
      "metadata": {
        "colab": {
          "base_uri": "https://localhost:8080/"
        },
        "id": "K4uJRraRW64y",
        "outputId": "4fa0d986-ca2a-4c8c-c61e-366511e67d66"
      },
      "outputs": [
        {
          "output_type": "stream",
          "name": "stdout",
          "text": [
            "Mounted at /content/drive\n"
          ]
        }
      ],
      "source": [
        "import pandas as pd\n",
        "import numpy as np\n",
        "from matplotlib import style\n",
        "from matplotlib import pyplot as plt\n",
        "#import graphviz as gr\n",
        "%matplotlib inline\n",
        "style.use(\"fivethirtyeight\")\n",
        "import matplotlib.pyplot as plt\n",
        "\n",
        "from google.colab import drive\n",
        "drive.mount('/content/drive')\n",
        "import warnings\n",
        "warnings.filterwarnings('ignore')\n",
        "pd.set_option(\"display.max_columns\", 60)\n",
        "pd.set_option('display.max_rows', 50)\n",
        "pd.set_option('display.width', 1000)"
      ]
    },
    {
      "cell_type": "code",
      "source": [
        "import seaborn as sns\n",
        "from sklearn.model_selection import train_test_split\n",
        "from sklearn.linear_model import LogisticRegression\n",
        "\n",
        "df=pd.read_excel('/content/drive/MyDrive/foodprices.xlsx')\n",
        "df.info()"
      ],
      "metadata": {
        "colab": {
          "base_uri": "https://localhost:8080/"
        },
        "id": "haEMZVSaW-OA",
        "outputId": "24d043b1-9114-4b8b-86ce-c71f54e7b497"
      },
      "execution_count": null,
      "outputs": [
        {
          "output_type": "stream",
          "name": "stdout",
          "text": [
            "<class 'pandas.core.frame.DataFrame'>\n",
            "RangeIndex: 24 entries, 0 to 23\n",
            "Data columns (total 6 columns):\n",
            " #   Column     Non-Null Count  Dtype  \n",
            "---  ------     --------------  -----  \n",
            " 0   City       24 non-null     object \n",
            " 1   Bread      24 non-null     float64\n",
            " 2   Hamburger  24 non-null     float64\n",
            " 3   Butter     24 non-null     float64\n",
            " 4   Apples     24 non-null     float64\n",
            " 5   Tomatoes   24 non-null     float64\n",
            "dtypes: float64(5), object(1)\n",
            "memory usage: 1.2+ KB\n"
          ]
        }
      ]
    },
    {
      "cell_type": "markdown",
      "source": [
        "We loaded the data into a dataframe df that and we see that it contains 5 variables that are considered as target variables. \n",
        "\n",
        "We then check the variables for correlation"
      ],
      "metadata": {
        "id": "kWwT7kZVvgp8"
      }
    },
    {
      "cell_type": "code",
      "source": [
        "#see the corr matrix\n",
        "cm=df.corr()\n",
        "sns.heatmap(cm)"
      ],
      "metadata": {
        "colab": {
          "base_uri": "https://localhost:8080/",
          "height": 284
        },
        "id": "zFY1f6a1vuyG",
        "outputId": "ffac52d4-f3a4-447a-c8bf-d9c7990dc8cf"
      },
      "execution_count": null,
      "outputs": [
        {
          "output_type": "execute_result",
          "data": {
            "text/plain": [
              "<matplotlib.axes._subplots.AxesSubplot at 0x7f1017ddb710>"
            ]
          },
          "metadata": {},
          "execution_count": 3
        },
        {
          "output_type": "display_data",
          "data": {
            "text/plain": [
              "<Figure size 432x288 with 2 Axes>"
            ],
            "image/png": "[encoded data removed]"
          },
          "metadata": {
            "needs_background": "light"
          }
        }
      ]
    },
    {
      "cell_type": "markdown",
      "source": [
        "We see that the data is correlated and thereby running a PCA model on our data would help reduce the collinearity. \n"
      ],
      "metadata": {
        "id": "rz7P7cNuv0iY"
      }
    },
    {
      "cell_type": "markdown",
      "source": [
        "1.1 Creating the PCA model and Identifying PC1 and PC2"
      ],
      "metadata": {
        "id": "hX6vKI1lyUco"
      }
    },
    {
      "cell_type": "code",
      "source": [
        "#lets separate the x and y variables\n",
        "x=df.drop(\"City\",axis=1)\n",
        "y=df[\"City\"]"
      ],
      "metadata": {
        "id": "tAr6eJXBmpps"
      },
      "execution_count": null,
      "outputs": []
    },
    {
      "cell_type": "code",
      "source": [
        "#STEP 1: We will normalize the data\n",
        "from sklearn.preprocessing import MinMaxScaler\n",
        "scaler = MinMaxScaler()\n",
        "scaled_x=scaler.fit_transform(x)"
      ],
      "metadata": {
        "id": "0YNQrwwHmoai"
      },
      "execution_count": null,
      "outputs": []
    },
    {
      "cell_type": "code",
      "source": [
        "#step 2: get the PCA model\n",
        "from sklearn.decomposition import PCA\n",
        "pca = PCA(n_components=2)\n",
        "# Now we can transform this data to its first 2 principal components.\n",
        "\n",
        "scaled_x_pca = pca.fit_transform(scaled_x)\n",
        "scaled_x_pca=pd.DataFrame(scaled_x_pca,columns=[\"PC1\",\"PC2\"])\n",
        "scaled_x_pca\n"
      ],
      "metadata": {
        "colab": {
          "base_uri": "https://localhost:8080/",
          "height": 802
        },
        "id": "KUvgvSusnB28",
        "outputId": "87c26f3b-d3a3-4c5c-9887-4eee216e9d08"
      },
      "execution_count": null,
      "outputs": [
        {
          "output_type": "execute_result",
          "data": {
            "text/plain": [
              "         PC1       PC2\n",
              "0   0.993395 -0.064096\n",
              "1   0.121500  0.023234\n",
              "2   0.165293  0.335932\n",
              "3   0.056279  0.444786\n",
              "4  -0.753077  0.223373\n",
              "5   0.234050 -0.348944\n",
              "6   0.027142  0.233184\n",
              "7  -0.199919 -0.079058\n",
              "8   0.168949 -0.282949\n",
              "9  -0.108775  0.426234\n",
              "10  0.667573 -0.215100\n",
              "11 -0.046132 -0.338433\n",
              "12 -0.123083  0.213832\n",
              "13 -0.351967 -0.325694\n",
              "14 -0.246442 -0.260275\n",
              "15 -0.175746  0.103257\n",
              "16  0.238059  0.253978\n",
              "17  0.495682  0.257268\n",
              "18 -0.116170  0.270768\n",
              "19 -0.354478 -0.030622\n",
              "20 -0.475555 -0.145564\n",
              "21 -0.146681 -0.381272\n",
              "22 -0.185594 -0.131631\n",
              "23  0.115695 -0.182207"
            ],
            "text/html": [
              "\n",
              "  <div id=\"df-19fedfa7-4502-42cb-92c4-279e841c83d3\">\n",
              "    <div class=\"colab-df-container\">\n",
              "      <div>\n",
              "<style scoped>\n",
              "    .dataframe tbody tr th:only-of-type {\n",
              "        vertical-align: middle;\n",
              "    }\n",
              "\n",
              "    .dataframe tbody tr th {\n",
              "        vertical-align: top;\n",
              "    }\n",
              "\n",
              "    .dataframe thead th {\n",
              "        text-align: right;\n",
              "    }\n",
              "</style>\n",
              "<table border=\"1\" class=\"dataframe\">\n",
              "  <thead>\n",
              "    <tr style=\"text-align: right;\">\n",
              "      <th></th>\n",
              "      <th>PC1</th>\n",
              "      <th>PC2</th>\n",
              "    </tr>\n",
              "  </thead>\n",
              "  <tbody>\n",
              "    <tr>\n",
              "      <th>0</th>\n",
              "      <td>0.993395</td>\n",
              "      <td>-0.064096</td>\n",
              "    </tr>\n",
              "    <tr>\n",
              "      <th>1</th>\n",
              "      <td>0.121500</td>\n",
              "      <td>0.023234</td>\n",
              "    </tr>\n",
              "    <tr>\n",
              "      <th>2</th>\n",
              "      <td>0.165293</td>\n",
              "      <td>0.335932</td>\n",
              "    </tr>\n",
              "    <tr>\n",
              "      <th>3</th>\n",
              "      <td>0.056279</td>\n",
              "      <td>0.444786</td>\n",
              "    </tr>\n",
              "    <tr>\n",
              "      <th>4</th>\n",
              "      <td>-0.753077</td>\n",
              "      <td>0.223373</td>\n",
              "    </tr>\n",
              "    <tr>\n",
              "      <th>5</th>\n",
              "      <td>0.234050</td>\n",
              "      <td>-0.348944</td>\n",
              "    </tr>\n",
              "    <tr>\n",
              "      <th>6</th>\n",
              "      <td>0.027142</td>\n",
              "      <td>0.233184</td>\n",
              "    </tr>\n",
              "    <tr>\n",
              "      <th>7</th>\n",
              "      <td>-0.199919</td>\n",
              "      <td>-0.079058</td>\n",
              "    </tr>\n",
              "    <tr>\n",
              "      <th>8</th>\n",
              "      <td>0.168949</td>\n",
              "      <td>-0.282949</td>\n",
              "    </tr>\n",
              "    <tr>\n",
              "      <th>9</th>\n",
              "      <td>-0.108775</td>\n",
              "      <td>0.426234</td>\n",
              "    </tr>\n",
              "    <tr>\n",
              "      <th>10</th>\n",
              "      <td>0.667573</td>\n",
              "      <td>-0.215100</td>\n",
              "    </tr>\n",
              "    <tr>\n",
              "      <th>11</th>\n",
              "      <td>-0.046132</td>\n",
              "      <td>-0.338433</td>\n",
              "    </tr>\n",
              "    <tr>\n",
              "      <th>12</th>\n",
              "      <td>-0.123083</td>\n",
              "      <td>0.213832</td>\n",
              "    </tr>\n",
              "    <tr>\n",
              "      <th>13</th>\n",
              "      <td>-0.351967</td>\n",
              "      <td>-0.325694</td>\n",
              "    </tr>\n",
              "    <tr>\n",
              "      <th>14</th>\n",
              "      <td>-0.246442</td>\n",
              "      <td>-0.260275</td>\n",
              "    </tr>\n",
              "    <tr>\n",
              "      <th>15</th>\n",
              "      <td>-0.175746</td>\n",
              "      <td>0.103257</td>\n",
              "    </tr>\n",
              "    <tr>\n",
              "      <th>16</th>\n",
              "      <td>0.238059</td>\n",
              "      <td>0.253978</td>\n",
              "    </tr>\n",
              "    <tr>\n",
              "      <th>17</th>\n",
              "      <td>0.495682</td>\n",
              "      <td>0.257268</td>\n",
              "    </tr>\n",
              "    <tr>\n",
              "      <th>18</th>\n",
              "      <td>-0.116170</td>\n",
              "      <td>0.270768</td>\n",
              "    </tr>\n",
              "    <tr>\n",
              "      <th>19</th>\n",
              "      <td>-0.354478</td>\n",
              "      <td>-0.030622</td>\n",
              "    </tr>\n",
              "    <tr>\n",
              "      <th>20</th>\n",
              "      <td>-0.475555</td>\n",
              "      <td>-0.145564</td>\n",
              "    </tr>\n",
              "    <tr>\n",
              "      <th>21</th>\n",
              "      <td>-0.146681</td>\n",
              "      <td>-0.381272</td>\n",
              "    </tr>\n",
              "    <tr>\n",
              "      <th>22</th>\n",
              "      <td>-0.185594</td>\n",
              "      <td>-0.131631</td>\n",
              "    </tr>\n",
              "    <tr>\n",
              "      <th>23</th>\n",
              "      <td>0.115695</td>\n",
              "      <td>-0.182207</td>\n",
              "    </tr>\n",
              "  </tbody>\n",
              "</table>\n",
              "</div>\n",
              "      <button class=\"colab-df-convert\" onclick=\"convertToInteractive('df-19fedfa7-4502-42cb-92c4-279e841c83d3')\"\n",
              "              title=\"Convert this dataframe to an interactive table.\"\n",
              "              style=\"display:none;\">\n",
              "        \n",
              "  <svg xmlns=\"http://www.w3.org/2000/svg\" height=\"24px\"viewBox=\"0 0 24 24\"\n",
              "       width=\"24px\">\n",
              "    <path d=\"M0 0h24v24H0V0z\" fill=\"none\"/>\n",
              "    <path d=\"M18.56 5.44l.94 2.06.94-2.06 2.06-.94-2.06-.94-.94-2.06-.94 2.06-2.06.94zm-11 1L8.5 8.5l.94-2.06 2.06-.94-2.06-.94L8.5 2.5l-.94 2.06-2.06.94zm10 10l.94 2.06.94-2.06 2.06-.94-2.06-.94-.94-2.06-.94 2.06-2.06.94z\"/><path d=\"M17.41 7.96l-1.37-1.37c-.4-.4-.92-.59-1.43-.59-.52 0-1.04.2-1.43.59L10.3 9.45l-7.72 7.72c-.78.78-.78 2.05 0 2.83L4 21.41c.39.39.9.59 1.41.59.51 0 1.02-.2 1.41-.59l7.78-7.78 2.81-2.81c.8-.78.8-2.07 0-2.86zM5.41 20L4 18.59l7.72-7.72 1.47 1.35L5.41 20z\"/>\n",
              "  </svg>\n",
              "      </button>\n",
              "      \n",
              "  <style>\n",
              "    .colab-df-container {\n",
              "      display:flex;\n",
              "      flex-wrap:wrap;\n",
              "      gap: 12px;\n",
              "    }\n",
              "\n",
              "    .colab-df-convert {\n",
              "      background-color: #E8F0FE;\n",
              "      border: none;\n",
              "      border-radius: 50%;\n",
              "      cursor: pointer;\n",
              "      display: none;\n",
              "      fill: #1967D2;\n",
              "      height: 32px;\n",
              "      padding: 0 0 0 0;\n",
              "      width: 32px;\n",
              "    }\n",
              "\n",
              "    .colab-df-convert:hover {\n",
              "      background-color: #E2EBFA;\n",
              "      box-shadow: 0px 1px 2px rgba(60, 64, 67, 0.3), 0px 1px 3px 1px rgba(60, 64, 67, 0.15);\n",
              "      fill: #174EA6;\n",
              "    }\n",
              "\n",
              "    [theme=dark] .colab-df-convert {\n",
              "      background-color: #3B4455;\n",
              "      fill: #D2E3FC;\n",
              "    }\n",
              "\n",
              "    [theme=dark] .colab-df-convert:hover {\n",
              "      background-color: #434B5C;\n",
              "      box-shadow: 0px 1px 3px 1px rgba(0, 0, 0, 0.15);\n",
              "      filter: drop-shadow(0px 1px 2px rgba(0, 0, 0, 0.3));\n",
              "      fill: #FFFFFF;\n",
              "    }\n",
              "  </style>\n",
              "\n",
              "      <script>\n",
              "        const buttonEl =\n",
              "          document.querySelector('#df-19fedfa7-4502-42cb-92c4-279e841c83d3 button.colab-df-convert');\n",
              "        buttonEl.style.display =\n",
              "          google.colab.kernel.accessAllowed ? 'block' : 'none';\n",
              "\n",
              "        async function convertToInteractive(key) {\n",
              "          const element = document.querySelector('#df-19fedfa7-4502-42cb-92c4-279e841c83d3');\n",
              "          const dataTable =\n",
              "            await google.colab.kernel.invokeFunction('convertToInteractive',\n",
              "                                                     [key], {});\n",
              "          if (!dataTable) return;\n",
              "\n",
              "          const docLinkHtml = 'Like what you see? Visit the ' +\n",
              "            '<a target=\"_blank\" href=https://colab.research.google.com/notebooks/data_table.ipynb>data table notebook</a>'\n",
              "            + ' to learn more about interactive tables.';\n",
              "          element.innerHTML = '';\n",
              "          dataTable['output_type'] = 'display_data';\n",
              "          await google.colab.output.renderOutput(dataTable, element);\n",
              "          const docLink = document.createElement('div');\n",
              "          docLink.innerHTML = docLinkHtml;\n",
              "          element.appendChild(docLink);\n",
              "        }\n",
              "      </script>\n",
              "    </div>\n",
              "  </div>\n",
              "  "
            ]
          },
          "metadata": {},
          "execution_count": 6
        }
      ]
    },
    {
      "cell_type": "markdown",
      "source": [
        "We now have two Principal Components PC1 and PC2 as given in the above table."
      ],
      "metadata": {
        "id": "_ki4yEayyHVm"
      }
    },
    {
      "cell_type": "markdown",
      "source": [
        "1.2 Create Eigenvalues and loadings"
      ],
      "metadata": {
        "id": "qZSr6zHHoGeR"
      }
    },
    {
      "cell_type": "code",
      "source": [
        "###eigen values\n",
        "eigenvalues = pca.explained_variance_\n",
        "\n",
        "###loadings\n",
        "import numpy as np\n",
        "loadings = pca.components_.T * np.sqrt(pca.explained_variance_)\n",
        "print(eigenvalues)\n",
        "print(loadings)"
      ],
      "metadata": {
        "colab": {
          "base_uri": "https://localhost:8080/"
        },
        "id": "8zYmhOAzoFwO",
        "outputId": "09fae055-8cd0-4482-9ce1-39ce524168ee"
      },
      "execution_count": null,
      "outputs": [
        {
          "output_type": "stream",
          "name": "stdout",
          "text": [
            "[0.13697926 0.07053865]\n",
            "[[ 0.14324042  0.00395698]\n",
            " [ 0.17174253  0.06421496]\n",
            " [ 0.15059519  0.01839982]\n",
            " [ 0.1586453  -0.23101448]\n",
            " [ 0.19778449  0.11266403]]\n"
          ]
        }
      ]
    },
    {
      "cell_type": "markdown",
      "source": [
        "The eigen values show that PC1 explains 0.13/0.20 and PC2 explains 0.07/0.20 of variation. "
      ],
      "metadata": {
        "id": "qmrVnpS2ylX-"
      }
    },
    {
      "cell_type": "markdown",
      "source": [
        "1.3 Explaination of variance in data"
      ],
      "metadata": {
        "id": "r6nlPkPSzTNb"
      }
    },
    {
      "cell_type": "code",
      "source": [
        "#Finding the variation of the data.\n",
        "pca.explained_variance_ratio_"
      ],
      "metadata": {
        "colab": {
          "base_uri": "https://localhost:8080/"
        },
        "id": "GdVhA2yryA7G",
        "outputId": "f16e2bc2-8dd5-4521-f883-456d6c981317"
      },
      "execution_count": null,
      "outputs": [
        {
          "output_type": "execute_result",
          "data": {
            "text/plain": [
              "array([0.46526145, 0.23959038])"
            ]
          },
          "metadata": {},
          "execution_count": 8
        }
      ]
    },
    {
      "cell_type": "markdown",
      "source": [
        "We see that PC1 contributes 47% and PC2 contributes to 24% of variance in the data."
      ],
      "metadata": {
        "id": "OHAFQ8XXzlO6"
      }
    },
    {
      "cell_type": "markdown",
      "source": [
        "1.4 Generating Graph to show how the food prices given by PC1 and PC2 for different cities"
      ],
      "metadata": {
        "id": "KqetEO3H1NQ1"
      }
    },
    {
      "cell_type": "code",
      "source": [
        "total_set=pd.concat([scaled_x_pca,df],axis=1)\n",
        "print(total_set)\n",
        "plt.figure(figsize=(10,10))\n",
        "sns.scatterplot(x=\"PC1\",y=\"PC2\",data=total_set)\n",
        "for i in range(len(total_set)):\n",
        "    plt.text(total_set.loc[i,\"PC1\"],total_set.loc[i,\"PC2\"],total_set.loc[i,\"City\"])\n",
        "plt.xlabel(\"PC1\")\n",
        "plt.ylabel(\"PC2\")\n",
        "plt.show()"
      ],
      "metadata": {
        "colab": {
          "base_uri": "https://localhost:8080/",
          "height": 843
        },
        "id": "3LuBOpfcpQA2",
        "outputId": "36b0347d-f5e8-4fab-c02f-6d538c65fbac"
      },
      "execution_count": null,
      "outputs": [
        {
          "output_type": "stream",
          "name": "stdout",
          "text": [
            "         PC1       PC2           City  Bread  Hamburger  Butter  Apples  Tomatoes\n",
            "0   0.993395 -0.064096      Anchorage   70.9      135.6  155.00    63.9     100.1\n",
            "1   0.121500  0.023234        Atlanta   36.4      111.5  144.30    53.9      95.9\n",
            "2   0.165293  0.335932      Baltimore   28.9      108.8  151.00    47.5     104.5\n",
            "3   0.056279  0.444786         Boston   43.2      119.3  142.00    41.1      96.5\n",
            "4  -0.753077  0.223373        Buffalo   34.5      109.9  124.80    35.6      75.9\n",
            "5   0.234050 -0.348944        Chicago   37.1      107.5  145.40    65.1      94.2\n",
            "6   0.027142  0.233184     Cincinnati   37.1      118.1  149.60    45.6      90.8\n",
            "7  -0.199919 -0.079058      Cleveland   38.5      107.7  142.70    50.3      83.2\n",
            "8   0.168949 -0.282949         Dallas   35.5      116.8  142.50    62.4      90.7\n",
            "9  -0.108775  0.426234        Detroit   40.8      108.8  140.10    39.7      96.1\n",
            "10  0.667573 -0.215100       Honolulu   50.9      131.7  154.40    65.0      93.9\n",
            "11 -0.046132 -0.338433        Houston   35.1      102.3  150.30    59.3      84.5\n",
            "12 -0.123083  0.213832    Kansas City   35.1       99.8  162.30    42.6      87.9\n",
            "13 -0.351967 -0.325694    Los Angeles   36.9       96.2  140.40    54.7      79.3\n",
            "14 -0.246442 -0.260275      Milwaukee   33.3      109.1  123.20    57.7      87.7\n",
            "15 -0.175746  0.103257    Minneapolis   32.5      116.7  135.10    48.0      89.1\n",
            "16  0.238059  0.253978       New York   42.7      130.8  148.70    47.6      92.1\n",
            "17  0.495682  0.257268   Philadelphia   42.9      126.9  153.80    51.9     101.5\n",
            "18 -0.116170  0.270768     Pittsburgh   36.9      115.4  138.90    43.8      91.9\n",
            "19 -0.354478 -0.030622      St. Louis   36.9      109.8  140.00    46.7      79.0\n",
            "20 -0.475555 -0.145564      San Diego   32.5       84.5  145.90    48.5      82.3\n",
            "21 -0.146681 -0.381272  San Francisco   40.0      104.6  139.10    59.2      81.9\n",
            "22 -0.185594 -0.131631        Seattle   32.2      105.4  136.80    54.0      88.6\n",
            "23  0.115695 -0.182207     Washington   31.8      116.7  154.81    57.6      86.6\n"
          ]
        },
        {
          "output_type": "display_data",
          "data": {
            "text/plain": [
              "<Figure size 720x720 with 1 Axes>"
            ],
            "image/png": "[encoded data removed]"
          },
          "metadata": {
            "needs_background": "light"
          }
        }
      ]
    },
    {
      "cell_type": "markdown",
      "source": [
        "The above plot shows the performance or values of PC1 and PC2 that are the prices of different food items in different Cities. "
      ],
      "metadata": {
        "id": "oqxN5KFc04W-"
      }
    },
    {
      "cell_type": "markdown",
      "source": [
        "## 2. Common goal of Principal Component Analysis and Confirmator Factor Analysis and how each differs?\n",
        "\n",
        "Confirmatory factor analysis (CFA) is a statistical technique used to verify the factor structure of a set of observed\n",
        "variables. Principal Component Analysis is a variable reduction procedure – it allows you summarize the common variation in many variables into just a few. It’s similar to Factor Analysis, but has different underlying assumptions.\n",
        "They're both common methods used to analyze\n",
        "groups of variables for the purpose of reducing them into subsets represented by latent constructs\n",
        "1. PCA has as a goal to define new variables based on the highest variance \n",
        "2. FA has as a goal to define new variables that we can understand and interpret in a business / practical manner.\n",
        "3. Resulting from this mathematical difference, we have also a big difference between the application of PCA and Factor Analysis. \n",
        "4. In PCA, there is one fixed outcome that orders the components from the highest explanatory value to the lowest explanatory value.\n",
        "5. In Factor Analysis, we can apply rotations to our solution, which will allow for finding a solution that has a more coherent business explication to each of the factors that were identified.\n",
        "6. PCA on the other hand is used in cases where we want to retain the largest amount of variation in the smallest number of variables possible. 7. PCA is also much used in data preparation for Machine Learning tasks, where we want to help the Machine Learning model by already “summarizing” the data in an easier-to-digest form.\n"
      ],
      "metadata": {
        "id": "ZQ02Qr7w03Ct"
      }
    },
    {
      "cell_type": "markdown",
      "source": [
        "## 3. Difference between Linear Discriminant Analysis(LDA) and Principal Component Analysis(PCA) in dimensionality reduction\n",
        "\n",
        "LDA and PCA are linear transformation techniques: LDA is supervised whereas PCA is unsupervised – PCA ignores class labels.\n",
        "LDA focuses on finding a feature subspace that maximizes the separability between the groups. While Principal component analysis is an unsupervised Dimensionality reduction technique, it ignores the class label. PCA focuses on capturing the direction of maximum variation in the data set.\n"
      ],
      "metadata": {
        "id": "t6zx6o5r10tU"
      }
    }
  ]
}
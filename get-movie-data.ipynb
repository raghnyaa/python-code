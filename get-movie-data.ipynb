{
  "nbformat": 4,
  "nbformat_minor": 0,
  "metadata": {
    "colab": {
      "provenance": [],
      "collapsed_sections": []
    },
    "kernelspec": {
      "name": "python3",
      "display_name": "Python 3"
    },
    "language_info": {
      "name": "python"
    }
  },
  "cells": [
    {
      "cell_type": "code",
      "execution_count": null,
      "metadata": {
        "id": "r85wqdAzWM3q"
      },
      "outputs": [],
      "source": [
        "#Importing all libraries\n",
        "import requests # to make TMDB API calls\n",
        "import locale # to format currency as USD\n",
        "locale.setlocale( locale.LC_ALL, '' )\n",
        "import pandas as pd"
      ]
    },
    {
      "cell_type": "code",
      "source": [
        "#Initiate the API Key\n",
        "api_key=\"2fd41becbab07c05e0b4f5840d4ef105\" "
      ],
      "metadata": {
        "id": "U6BW1iHEWyYH"
      },
      "execution_count": null,
      "outputs": []
    },
    {
      "cell_type": "markdown",
      "source": [
        "##Get Movie data "
      ],
      "metadata": {
        "id": "-yxRti6Zbr6e"
      }
    },
    {
      "cell_type": "code",
      "source": [
        "import ast\n",
        "movie_data= pd.DataFrame([])\n",
        "#Storing Movies and Revenue data in a dataframe\n",
        "for i in range(1,6):\n",
        "    response = requests.get('https://api.themoviedb.org/3/discover/movie?api_key=' +  api_key + '&primary_release_date.gte=2021-01-01&primary_release_date.lte=2021-12-31&sort_by=revenue.desc&page='+str(i))\n",
        "    highest_revenue_ever = response.json()\n",
        "    highest_revenue_films_ever = highest_revenue_ever['results']\n",
        "    movie_data = movie_data.append(highest_revenue_films_ever,ignore_index=True,sort=False)\n",
        "movie_data=movie_data.astype(str)\n",
        "movie_data['genre_ids'] = movie_data['genre_ids'].apply(lambda x: ast.literal_eval(x))\n",
        "movie_data = movie_data.explode('genre_ids')\n",
        "movie_data=movie_data.astype(str)"
      ],
      "metadata": {
        "id": "AJdFETyAazVm"
      },
      "execution_count": null,
      "outputs": []
    },
    {
      "cell_type": "code",
      "source": [
        "movie_data.head(3)"
      ],
      "metadata": {
        "colab": {
          "base_uri": "https://localhost:8080/",
          "height": 468
        },
        "id": "l4irh7ZpT3Qc",
        "outputId": "64a8f382-747d-4fba-f86a-5d88a64663a3"
      },
      "execution_count": null,
      "outputs": [
        {
          "output_type": "execute_result",
          "data": {
            "text/plain": [
              "   adult                     backdrop_path genre_ids      id  \\\n",
              "0  False  /iQFcwSGbZXMkeyKrxbPnwnRo5fl.jpg        28  634649   \n",
              "0  False  /iQFcwSGbZXMkeyKrxbPnwnRo5fl.jpg        12  634649   \n",
              "0  False  /iQFcwSGbZXMkeyKrxbPnwnRo5fl.jpg       878  634649   \n",
              "\n",
              "  original_language           original_title  \\\n",
              "0                en  Spider-Man: No Way Home   \n",
              "0                en  Spider-Man: No Way Home   \n",
              "0                en  Spider-Man: No Way Home   \n",
              "\n",
              "                                            overview popularity  \\\n",
              "0  Peter Parker is unmasked and no longer able to...   2506.159   \n",
              "0  Peter Parker is unmasked and no longer able to...   2506.159   \n",
              "0  Peter Parker is unmasked and no longer able to...   2506.159   \n",
              "\n",
              "                        poster_path release_date                    title  \\\n",
              "0  /1g0dhYtq4irTY1GPXvft6k4YLjm.jpg   2021-12-15  Spider-Man: No Way Home   \n",
              "0  /1g0dhYtq4irTY1GPXvft6k4YLjm.jpg   2021-12-15  Spider-Man: No Way Home   \n",
              "0  /1g0dhYtq4irTY1GPXvft6k4YLjm.jpg   2021-12-15  Spider-Man: No Way Home   \n",
              "\n",
              "   video vote_average vote_count  \n",
              "0  False          8.1      13772  \n",
              "0  False          8.1      13772  \n",
              "0  False          8.1      13772  "
            ],
            "text/html": [
              "\n",
              "  <div id=\"df-ac748a74-16e4-4c05-ae83-cdc6050d1074\">\n",
              "    <div class=\"colab-df-container\">\n",
              "      <div>\n",
              "<style scoped>\n",
              "    .dataframe tbody tr th:only-of-type {\n",
              "        vertical-align: middle;\n",
              "    }\n",
              "\n",
              "    .dataframe tbody tr th {\n",
              "        vertical-align: top;\n",
              "    }\n",
              "\n",
              "    .dataframe thead th {\n",
              "        text-align: right;\n",
              "    }\n",
              "</style>\n",
              "<table border=\"1\" class=\"dataframe\">\n",
              "  <thead>\n",
              "    <tr style=\"text-align: right;\">\n",
              "      <th></th>\n",
              "      <th>adult</th>\n",
              "      <th>backdrop_path</th>\n",
              "      <th>genre_ids</th>\n",
              "      <th>id</th>\n",
              "      <th>original_language</th>\n",
              "      <th>original_title</th>\n",
              "      <th>overview</th>\n",
              "      <th>popularity</th>\n",
              "      <th>poster_path</th>\n",
              "      <th>release_date</th>\n",
              "      <th>title</th>\n",
              "      <th>video</th>\n",
              "      <th>vote_average</th>\n",
              "      <th>vote_count</th>\n",
              "    </tr>\n",
              "  </thead>\n",
              "  <tbody>\n",
              "    <tr>\n",
              "      <th>0</th>\n",
              "      <td>False</td>\n",
              "      <td>/iQFcwSGbZXMkeyKrxbPnwnRo5fl.jpg</td>\n",
              "      <td>28</td>\n",
              "      <td>634649</td>\n",
              "      <td>en</td>\n",
              "      <td>Spider-Man: No Way Home</td>\n",
              "      <td>Peter Parker is unmasked and no longer able to...</td>\n",
              "      <td>2506.159</td>\n",
              "      <td>/1g0dhYtq4irTY1GPXvft6k4YLjm.jpg</td>\n",
              "      <td>2021-12-15</td>\n",
              "      <td>Spider-Man: No Way Home</td>\n",
              "      <td>False</td>\n",
              "      <td>8.1</td>\n",
              "      <td>13772</td>\n",
              "    </tr>\n",
              "    <tr>\n",
              "      <th>0</th>\n",
              "      <td>False</td>\n",
              "      <td>/iQFcwSGbZXMkeyKrxbPnwnRo5fl.jpg</td>\n",
              "      <td>12</td>\n",
              "      <td>634649</td>\n",
              "      <td>en</td>\n",
              "      <td>Spider-Man: No Way Home</td>\n",
              "      <td>Peter Parker is unmasked and no longer able to...</td>\n",
              "      <td>2506.159</td>\n",
              "      <td>/1g0dhYtq4irTY1GPXvft6k4YLjm.jpg</td>\n",
              "      <td>2021-12-15</td>\n",
              "      <td>Spider-Man: No Way Home</td>\n",
              "      <td>False</td>\n",
              "      <td>8.1</td>\n",
              "      <td>13772</td>\n",
              "    </tr>\n",
              "    <tr>\n",
              "      <th>0</th>\n",
              "      <td>False</td>\n",
              "      <td>/iQFcwSGbZXMkeyKrxbPnwnRo5fl.jpg</td>\n",
              "      <td>878</td>\n",
              "      <td>634649</td>\n",
              "      <td>en</td>\n",
              "      <td>Spider-Man: No Way Home</td>\n",
              "      <td>Peter Parker is unmasked and no longer able to...</td>\n",
              "      <td>2506.159</td>\n",
              "      <td>/1g0dhYtq4irTY1GPXvft6k4YLjm.jpg</td>\n",
              "      <td>2021-12-15</td>\n",
              "      <td>Spider-Man: No Way Home</td>\n",
              "      <td>False</td>\n",
              "      <td>8.1</td>\n",
              "      <td>13772</td>\n",
              "    </tr>\n",
              "  </tbody>\n",
              "</table>\n",
              "</div>\n",
              "      <button class=\"colab-df-convert\" onclick=\"convertToInteractive('df-ac748a74-16e4-4c05-ae83-cdc6050d1074')\"\n",
              "              title=\"Convert this dataframe to an interactive table.\"\n",
              "              style=\"display:none;\">\n",
              "        \n",
              "  <svg xmlns=\"http://www.w3.org/2000/svg\" height=\"24px\"viewBox=\"0 0 24 24\"\n",
              "       width=\"24px\">\n",
              "    <path d=\"M0 0h24v24H0V0z\" fill=\"none\"/>\n",
              "    <path d=\"M18.56 5.44l.94 2.06.94-2.06 2.06-.94-2.06-.94-.94-2.06-.94 2.06-2.06.94zm-11 1L8.5 8.5l.94-2.06 2.06-.94-2.06-.94L8.5 2.5l-.94 2.06-2.06.94zm10 10l.94 2.06.94-2.06 2.06-.94-2.06-.94-.94-2.06-.94 2.06-2.06.94z\"/><path d=\"M17.41 7.96l-1.37-1.37c-.4-.4-.92-.59-1.43-.59-.52 0-1.04.2-1.43.59L10.3 9.45l-7.72 7.72c-.78.78-.78 2.05 0 2.83L4 21.41c.39.39.9.59 1.41.59.51 0 1.02-.2 1.41-.59l7.78-7.78 2.81-2.81c.8-.78.8-2.07 0-2.86zM5.41 20L4 18.59l7.72-7.72 1.47 1.35L5.41 20z\"/>\n",
              "  </svg>\n",
              "      </button>\n",
              "      \n",
              "  <style>\n",
              "    .colab-df-container {\n",
              "      display:flex;\n",
              "      flex-wrap:wrap;\n",
              "      gap: 12px;\n",
              "    }\n",
              "\n",
              "    .colab-df-convert {\n",
              "      background-color: #E8F0FE;\n",
              "      border: none;\n",
              "      border-radius: 50%;\n",
              "      cursor: pointer;\n",
              "      display: none;\n",
              "      fill: #1967D2;\n",
              "      height: 32px;\n",
              "      padding: 0 0 0 0;\n",
              "      width: 32px;\n",
              "    }\n",
              "\n",
              "    .colab-df-convert:hover {\n",
              "      background-color: #E2EBFA;\n",
              "      box-shadow: 0px 1px 2px rgba(60, 64, 67, 0.3), 0px 1px 3px 1px rgba(60, 64, 67, 0.15);\n",
              "      fill: #174EA6;\n",
              "    }\n",
              "\n",
              "    [theme=dark] .colab-df-convert {\n",
              "      background-color: #3B4455;\n",
              "      fill: #D2E3FC;\n",
              "    }\n",
              "\n",
              "    [theme=dark] .colab-df-convert:hover {\n",
              "      background-color: #434B5C;\n",
              "      box-shadow: 0px 1px 3px 1px rgba(0, 0, 0, 0.15);\n",
              "      filter: drop-shadow(0px 1px 2px rgba(0, 0, 0, 0.3));\n",
              "      fill: #FFFFFF;\n",
              "    }\n",
              "  </style>\n",
              "\n",
              "      <script>\n",
              "        const buttonEl =\n",
              "          document.querySelector('#df-ac748a74-16e4-4c05-ae83-cdc6050d1074 button.colab-df-convert');\n",
              "        buttonEl.style.display =\n",
              "          google.colab.kernel.accessAllowed ? 'block' : 'none';\n",
              "\n",
              "        async function convertToInteractive(key) {\n",
              "          const element = document.querySelector('#df-ac748a74-16e4-4c05-ae83-cdc6050d1074');\n",
              "          const dataTable =\n",
              "            await google.colab.kernel.invokeFunction('convertToInteractive',\n",
              "                                                     [key], {});\n",
              "          if (!dataTable) return;\n",
              "\n",
              "          const docLinkHtml = 'Like what you see? Visit the ' +\n",
              "            '<a target=\"_blank\" href=https://colab.research.google.com/notebooks/data_table.ipynb>data table notebook</a>'\n",
              "            + ' to learn more about interactive tables.';\n",
              "          element.innerHTML = '';\n",
              "          dataTable['output_type'] = 'display_data';\n",
              "          await google.colab.output.renderOutput(dataTable, element);\n",
              "          const docLink = document.createElement('div');\n",
              "          docLink.innerHTML = docLinkHtml;\n",
              "          element.appendChild(docLink);\n",
              "        }\n",
              "      </script>\n",
              "    </div>\n",
              "  </div>\n",
              "  "
            ]
          },
          "metadata": {},
          "execution_count": 6
        }
      ]
    },
    {
      "cell_type": "markdown",
      "source": [
        "##Getting Revenue Data"
      ],
      "metadata": {
        "id": "nWIAR39cbvFA"
      }
    },
    {
      "cell_type": "code",
      "source": [
        "revenue_data= pd.DataFrame([])\n",
        "for i in range(1,6):\n",
        "    response = requests.get('https://api.themoviedb.org/3/discover/movie?api_key=' +  api_key + '&primary_release_date.gte=2021-01-01&primary_release_date.lte=2021-12-31&sort_by=revenue.desc&page='+str(i))\n",
        "    highest_revenue_ever = response.json()\n",
        "    highest_revenue_films_ever = highest_revenue_ever['results']\n",
        "    for film in highest_revenue_films_ever:\n",
        "    # print(film['title'])\n",
        "\n",
        "      film_revenue = requests.get('https://api.themoviedb.org/3/movie/'+ str(film['id']) +'?api_key='+ api_key+'&language=en-US')\n",
        "      film_revenue = film_revenue.json()\n",
        "    # print(film_revenue)\n",
        "\n",
        "    # print(locale.currency(film_revenue['revenue'], grouping=True ))\n",
        "      revenue_data= revenue_data.append(film_revenue,ignore_index=True,sort=False)\n",
        "revenue_data=revenue_data.astype(str)"
      ],
      "metadata": {
        "id": "RCNGr3hVVUC1"
      },
      "execution_count": null,
      "outputs": []
    },
    {
      "cell_type": "markdown",
      "source": [
        "##Getting Genre data"
      ],
      "metadata": {
        "id": "fy0aQ6LibnJj"
      }
    },
    {
      "cell_type": "code",
      "source": [
        "response=requests.get('https://api.themoviedb.org/3/genre/movie/list?api_key=' + api_key )\n",
        "genre_response= response.json()\n",
        "genre_data=pd.json_normalize(genre_response, 'genres')\n",
        "genre_data=genre_data.astype(str)"
      ],
      "metadata": {
        "id": "IGe2HpOOf8gW"
      },
      "execution_count": null,
      "outputs": []
    },
    {
      "cell_type": "markdown",
      "source": [
        "##Connecting SQLite3"
      ],
      "metadata": {
        "id": "BmXh3TLobjIb"
      }
    },
    {
      "cell_type": "code",
      "source": [
        "import sqlite3\n",
        "conn = sqlite3.connect('TMDB.db')"
      ],
      "metadata": {
        "id": "2ybSIhrDl7V5"
      },
      "execution_count": null,
      "outputs": []
    },
    {
      "cell_type": "code",
      "source": [
        "##push the dataframe to sql \n",
        "movie_data.to_sql(\"movie_data\", conn, if_exists=\"replace\")\n",
        "\n",
        "##create the table to push movie_data \n",
        "\n",
        "conn.execute(\n",
        "    \"\"\"\n",
        "    create table Movies as \n",
        "    select * from movie_data\n",
        "    \"\"\")"
      ],
      "metadata": {
        "colab": {
          "base_uri": "https://localhost:8080/"
        },
        "id": "cwsKimX9l1w1",
        "outputId": "49fe07a5-ea6f-408c-d758-ed6f369a8834"
      },
      "execution_count": null,
      "outputs": [
        {
          "output_type": "execute_result",
          "data": {
            "text/plain": [
              "<sqlite3.Cursor at 0x7fd195c0d880>"
            ]
          },
          "metadata": {},
          "execution_count": 10
        }
      ]
    },
    {
      "cell_type": "code",
      "source": [
        "##push the dataframe to sql \n",
        "revenue_data.to_sql(\"revenue_data\", conn, if_exists=\"replace\")\n",
        "\n",
        "##create the table to push revenue_data \n",
        "\n",
        "conn.execute(\n",
        "    \"\"\"\n",
        "    create table Movies_revenue as \n",
        "    select * from revenue_data\n",
        "    \"\"\")"
      ],
      "metadata": {
        "colab": {
          "base_uri": "https://localhost:8080/"
        },
        "id": "Us22f6f9cWQw",
        "outputId": "c6f79558-e1f5-4e56-9485-d7ae82805b02"
      },
      "execution_count": null,
      "outputs": [
        {
          "output_type": "execute_result",
          "data": {
            "text/plain": [
              "<sqlite3.Cursor at 0x7fd195c0dc00>"
            ]
          },
          "metadata": {},
          "execution_count": 11
        }
      ]
    },
    {
      "cell_type": "code",
      "source": [
        "##push the dataframe to sql \n",
        "genre_data.to_sql(\"genre_data\", conn, if_exists=\"replace\")\n",
        "\n",
        "##create the table to push genre_data \n",
        "\n",
        "conn.execute(\n",
        "    \"\"\"\n",
        "    create table Movies_genres as \n",
        "    select * from genre_data\n",
        "    \"\"\")"
      ],
      "metadata": {
        "colab": {
          "base_uri": "https://localhost:8080/"
        },
        "id": "bOlgigHJc62E",
        "outputId": "1a92f5cf-2cb5-430d-d0ad-da30d649d849"
      },
      "execution_count": null,
      "outputs": [
        {
          "output_type": "execute_result",
          "data": {
            "text/plain": [
              "<sqlite3.Cursor at 0x7fd195b2aa40>"
            ]
          },
          "metadata": {},
          "execution_count": 12
        }
      ]
    }
  ]
}